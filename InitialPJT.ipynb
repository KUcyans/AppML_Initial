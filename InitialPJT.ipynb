{
 "cells": [
  {
   "cell_type": "code",
   "execution_count": 3,
   "metadata": {},
   "outputs": [],
   "source": [
    "import pandas as pd\n",
    "import matplotlib as mpl\n",
    "import matplotlib.pyplot as plt\n",
    "import numpy as np\n",
    "import matplotlib.ticker as ticker\n",
    "import sys\n",
    "from iminuit import Minuit\n",
    "from matplotlib.colors import ListedColormap\n",
    "from tqdm import tqdm\n",
    "import os\n",
    "from scipy.interpolate import interp1d\n",
    "from scipy.interpolate import PchipInterpolator, InterpolatedUnivariateSpline"
   ]
  },
  {
   "cell_type": "code",
   "execution_count": 4,
   "metadata": {},
   "outputs": [],
   "source": [
    "import shap"
   ]
  },
  {
   "cell_type": "code",
   "execution_count": 5,
   "metadata": {},
   "outputs": [],
   "source": [
    "from sklearn.model_selection import train_test_split\n",
    "from sklearn.metrics import precision_score\n",
    "from sklearn.metrics import confusion_matrix\n",
    "from sklearn.metrics import precision_score\n",
    "from sklearn.inspection import permutation_importance\n",
    "from sklearn.base import BaseEstimator, ClassifierMixin"
   ]
  },
  {
   "cell_type": "code",
   "execution_count": 84,
   "metadata": {},
   "outputs": [],
   "source": [
    "# classifiers\n",
    "from sklearn.linear_model import LogisticRegression\n",
    "from sklearn.ensemble import RandomForestClassifier\n",
    "from sklearn.ensemble import AdaBoostClassifier\n",
    "from sklearn.ensemble import GradientBoostingClassifier\n",
    "import xgboost as xgb"
   ]
  },
  {
   "cell_type": "code",
   "execution_count": 83,
   "metadata": {},
   "outputs": [],
   "source": [
    "import tensorflow as tf\n",
    "from tensorflow.keras.models import Sequential, Model\n",
    "from tensorflow.keras.layers import Conv2D, MaxPooling2D, Flatten, Dense, Input, Dropout\n",
    "\n",
    "import spektral\n",
    "from spektral.layers import GCNConv"
   ]
  },
  {
   "cell_type": "code",
   "execution_count": 7,
   "metadata": {},
   "outputs": [],
   "source": [
    "import torch\n",
    "import torch.nn as nn\n",
    "import torch.optim as optim\n",
    "from torch.utils.data import Dataset, DataLoader\n",
    "from torch.nn import CrossEntropyLoss\n",
    "from scipy.special import expit"
   ]
  },
  {
   "cell_type": "code",
   "execution_count": 8,
   "metadata": {},
   "outputs": [],
   "source": [
    "sys.path.append('../External_Functions')\n",
    "from ExternalFunctions import Chi2Regression, BinnedLH, UnbinnedLH, simpson38\n",
    "from ExternalFunctions import nice_string_output, add_text_to_ax "
   ]
  },
  {
   "cell_type": "code",
   "execution_count": 9,
   "metadata": {},
   "outputs": [],
   "source": [
    "COLOUR = ['#1E90FF', # 0 # Dodgerblue\n",
    "          '#FFBF00', # 1 # Amber\n",
    "          '#FF6347', # 2 # Tomato\n",
    "          '#00A86B', # 3 # Jade\n",
    "          '#8A2BE2', # 4 # Blueviolet\n",
    "          '#FF6FFF', # 5 # Ultra Pink\n",
    "          '#00CCFF', # 6 # Vivid Sky Blue\n",
    "          '#00ff40', # 7 # Erin\n",
    "          '#FF004F', # 8 # Folly\n",
    "          '#0063A6', # 9 # Lapis Lazuli\n",
    "        ]\n",
    "def setMplParam(classNum):\n",
    "    # Define effective colors, line styles, and markers based on the class number\n",
    "   \n",
    "    LINE = ['-', '-.', '--', '-.', ':','--','-.','-', ':', '--']\n",
    "    MARKER = ['.','*', '^', 's', '.', 'p', 'o', 's', '.', 'd']\n",
    "    COLOUR_EFF = COLOUR[:classNum]\n",
    "    LINE_EFF = LINE[:classNum]\n",
    "    MARKER_EFF = MARKER[:classNum]\n",
    "\n",
    "    # Set the color cycle for lines including color, line style, and marker\n",
    "    plt.rcParams['axes.prop_cycle'] = (plt.cycler(color=COLOUR_EFF) +\n",
    "                                       plt.cycler(linestyle=LINE_EFF)+\n",
    "                                       plt.cycler(marker=MARKER_EFF))\n",
    "\n",
    "    # Set default line and marker sizes\n",
    "    plt.rcParams['lines.markersize'] = 3  # Example size\n",
    "    plt.rcParams['lines.linewidth'] = 2   # Example width for lines\n",
    "\n",
    "    # Set label and title sizes\n",
    "    plt.rcParams['axes.labelsize'] = 20\n",
    "    plt.rcParams['axes.titlesize'] = 20\n",
    "\n",
    "    # Set tick properties\n",
    "    plt.rcParams['xtick.direction'] = 'in'\n",
    "    plt.rcParams['xtick.labelsize'] = 20\n",
    "    plt.rcParams['ytick.direction'] = 'in'\n",
    "    plt.rcParams['ytick.labelsize'] = 20\n",
    "\n",
    "    # Set legend font size\n",
    "    plt.rcParams['legend.fontsize'] = 12\n",
    "\n",
    "    # Enable and configure grid\n",
    "    plt.rcParams['axes.grid'] = True\n",
    "    plt.rcParams['grid.alpha'] = 0.8\n",
    "    plt.rcParams['grid.linestyle'] = '--'\n",
    "    plt.rcParams['grid.linewidth'] = 1\n",
    "\n",
    "    # Set axes line width\n",
    "    plt.rcParams['axes.linewidth'] = 2\n",
    "\n",
    "    # Set tick sizes and widths\n",
    "    plt.rcParams['xtick.major.size'] = 7\n",
    "    plt.rcParams['xtick.major.width'] = 3\n",
    "    plt.rcParams['xtick.minor.size'] = 2\n",
    "    plt.rcParams['xtick.minor.width'] = 2\n",
    "\n",
    "    plt.rcParams['ytick.major.size'] = 7\n",
    "    plt.rcParams['ytick.major.width'] = 3\n",
    "    plt.rcParams['ytick.minor.size'] = 2\n",
    "    plt.rcParams['ytick.minor.width'] = 2\n",
    "\n",
    "setMplParam(10)\n"
   ]
  },
  {
   "cell_type": "code",
   "execution_count": 10,
   "metadata": {},
   "outputs": [],
   "source": [
    "def readTrainData():\n",
    "    path = 'sources'\n",
    "    df = pd.read_csv(path+'AppML_InitialProject_train.csv')\n",
    "    return df\n",
    "trainDf = readTrainData()"
   ]
  },
  {
   "cell_type": "code",
   "execution_count": 11,
   "metadata": {},
   "outputs": [
    {
     "data": {
      "text/html": [
       "<div>\n",
       "<style scoped>\n",
       "    .dataframe tbody tr th:only-of-type {\n",
       "        vertical-align: middle;\n",
       "    }\n",
       "\n",
       "    .dataframe tbody tr th {\n",
       "        vertical-align: top;\n",
       "    }\n",
       "\n",
       "    .dataframe thead th {\n",
       "        text-align: right;\n",
       "    }\n",
       "</style>\n",
       "<table border=\"1\" class=\"dataframe\">\n",
       "  <thead>\n",
       "    <tr style=\"text-align: right;\">\n",
       "      <th></th>\n",
       "      <th>averageInteractionsPerCrossing</th>\n",
       "      <th>p_Rhad1</th>\n",
       "      <th>p_Rhad</th>\n",
       "      <th>p_f3</th>\n",
       "      <th>p_weta2</th>\n",
       "      <th>p_Rphi</th>\n",
       "      <th>p_Reta</th>\n",
       "      <th>p_Eratio</th>\n",
       "      <th>p_f1</th>\n",
       "      <th>p_TRTPID</th>\n",
       "      <th>...</th>\n",
       "      <th>p_eta</th>\n",
       "      <th>p_phi</th>\n",
       "      <th>p_charge</th>\n",
       "      <th>p_Truth_isElectron</th>\n",
       "      <th>p_truth_pt</th>\n",
       "      <th>p_truth_phi</th>\n",
       "      <th>p_truth_eta</th>\n",
       "      <th>p_Truth_Energy</th>\n",
       "      <th>p_truth_pdgId</th>\n",
       "      <th>p_truth_parent_pdgId</th>\n",
       "    </tr>\n",
       "  </thead>\n",
       "  <tbody>\n",
       "    <tr>\n",
       "      <th>0</th>\n",
       "      <td>29.49</td>\n",
       "      <td>0.105563</td>\n",
       "      <td>0.111953</td>\n",
       "      <td>0.000000</td>\n",
       "      <td>0.020473</td>\n",
       "      <td>0.746226</td>\n",
       "      <td>0.671689</td>\n",
       "      <td>0.000000</td>\n",
       "      <td>0.000000</td>\n",
       "      <td>0.063020</td>\n",
       "      <td>...</td>\n",
       "      <td>-1.425603</td>\n",
       "      <td>-0.859392</td>\n",
       "      <td>-1.0</td>\n",
       "      <td>1</td>\n",
       "      <td>2815.96020</td>\n",
       "      <td>-0.828581</td>\n",
       "      <td>-1.425959</td>\n",
       "      <td>6198.1055</td>\n",
       "      <td>11</td>\n",
       "      <td>22</td>\n",
       "    </tr>\n",
       "    <tr>\n",
       "      <th>1</th>\n",
       "      <td>17.50</td>\n",
       "      <td>0.001889</td>\n",
       "      <td>0.001663</td>\n",
       "      <td>0.007252</td>\n",
       "      <td>0.009059</td>\n",
       "      <td>0.944349</td>\n",
       "      <td>0.967633</td>\n",
       "      <td>0.955249</td>\n",
       "      <td>0.135955</td>\n",
       "      <td>0.059219</td>\n",
       "      <td>...</td>\n",
       "      <td>-0.380698</td>\n",
       "      <td>-1.014216</td>\n",
       "      <td>-1.0</td>\n",
       "      <td>1</td>\n",
       "      <td>39207.48000</td>\n",
       "      <td>-1.014038</td>\n",
       "      <td>-0.380727</td>\n",
       "      <td>42083.5980</td>\n",
       "      <td>11</td>\n",
       "      <td>23</td>\n",
       "    </tr>\n",
       "    <tr>\n",
       "      <th>2</th>\n",
       "      <td>30.50</td>\n",
       "      <td>-0.001041</td>\n",
       "      <td>-0.001294</td>\n",
       "      <td>0.006346</td>\n",
       "      <td>0.008852</td>\n",
       "      <td>0.976413</td>\n",
       "      <td>0.959573</td>\n",
       "      <td>0.937885</td>\n",
       "      <td>0.171204</td>\n",
       "      <td>-0.105151</td>\n",
       "      <td>...</td>\n",
       "      <td>0.591333</td>\n",
       "      <td>2.983345</td>\n",
       "      <td>1.0</td>\n",
       "      <td>1</td>\n",
       "      <td>64328.51600</td>\n",
       "      <td>2.981821</td>\n",
       "      <td>0.592576</td>\n",
       "      <td>75957.2800</td>\n",
       "      <td>-11</td>\n",
       "      <td>23</td>\n",
       "    </tr>\n",
       "    <tr>\n",
       "      <th>3</th>\n",
       "      <td>46.49</td>\n",
       "      <td>0.000606</td>\n",
       "      <td>0.002833</td>\n",
       "      <td>0.005985</td>\n",
       "      <td>0.009785</td>\n",
       "      <td>0.950910</td>\n",
       "      <td>0.945615</td>\n",
       "      <td>0.966444</td>\n",
       "      <td>0.263183</td>\n",
       "      <td>-0.026020</td>\n",
       "      <td>...</td>\n",
       "      <td>1.006222</td>\n",
       "      <td>0.503709</td>\n",
       "      <td>1.0</td>\n",
       "      <td>1</td>\n",
       "      <td>46312.54700</td>\n",
       "      <td>0.503773</td>\n",
       "      <td>1.006411</td>\n",
       "      <td>71814.3700</td>\n",
       "      <td>-11</td>\n",
       "      <td>23</td>\n",
       "    </tr>\n",
       "    <tr>\n",
       "      <th>4</th>\n",
       "      <td>31.50</td>\n",
       "      <td>0.024148</td>\n",
       "      <td>0.067781</td>\n",
       "      <td>0.034671</td>\n",
       "      <td>0.009486</td>\n",
       "      <td>0.797810</td>\n",
       "      <td>0.670594</td>\n",
       "      <td>0.087876</td>\n",
       "      <td>0.373575</td>\n",
       "      <td>0.219026</td>\n",
       "      <td>...</td>\n",
       "      <td>-1.674565</td>\n",
       "      <td>1.063436</td>\n",
       "      <td>-1.0</td>\n",
       "      <td>1</td>\n",
       "      <td>858.65717</td>\n",
       "      <td>1.060842</td>\n",
       "      <td>-1.676498</td>\n",
       "      <td>2375.8310</td>\n",
       "      <td>11</td>\n",
       "      <td>111</td>\n",
       "    </tr>\n",
       "    <tr>\n",
       "      <th>...</th>\n",
       "      <td>...</td>\n",
       "      <td>...</td>\n",
       "      <td>...</td>\n",
       "      <td>...</td>\n",
       "      <td>...</td>\n",
       "      <td>...</td>\n",
       "      <td>...</td>\n",
       "      <td>...</td>\n",
       "      <td>...</td>\n",
       "      <td>...</td>\n",
       "      <td>...</td>\n",
       "      <td>...</td>\n",
       "      <td>...</td>\n",
       "      <td>...</td>\n",
       "      <td>...</td>\n",
       "      <td>...</td>\n",
       "      <td>...</td>\n",
       "      <td>...</td>\n",
       "      <td>...</td>\n",
       "      <td>...</td>\n",
       "      <td>...</td>\n",
       "    </tr>\n",
       "    <tr>\n",
       "      <th>179995</th>\n",
       "      <td>36.50</td>\n",
       "      <td>0.492974</td>\n",
       "      <td>1.262969</td>\n",
       "      <td>0.025889</td>\n",
       "      <td>0.015685</td>\n",
       "      <td>0.472843</td>\n",
       "      <td>0.684885</td>\n",
       "      <td>0.287160</td>\n",
       "      <td>0.304126</td>\n",
       "      <td>-0.148706</td>\n",
       "      <td>...</td>\n",
       "      <td>0.540303</td>\n",
       "      <td>-3.105240</td>\n",
       "      <td>1.0</td>\n",
       "      <td>0</td>\n",
       "      <td>32911.66400</td>\n",
       "      <td>-3.105209</td>\n",
       "      <td>0.540659</td>\n",
       "      <td>37840.4920</td>\n",
       "      <td>211</td>\n",
       "      <td>2</td>\n",
       "    </tr>\n",
       "    <tr>\n",
       "      <th>179996</th>\n",
       "      <td>31.50</td>\n",
       "      <td>0.076596</td>\n",
       "      <td>0.572484</td>\n",
       "      <td>0.117248</td>\n",
       "      <td>0.009608</td>\n",
       "      <td>0.958072</td>\n",
       "      <td>0.936306</td>\n",
       "      <td>0.076313</td>\n",
       "      <td>0.274991</td>\n",
       "      <td>-0.109284</td>\n",
       "      <td>...</td>\n",
       "      <td>0.541794</td>\n",
       "      <td>1.783658</td>\n",
       "      <td>-1.0</td>\n",
       "      <td>0</td>\n",
       "      <td>13656.11700</td>\n",
       "      <td>1.783581</td>\n",
       "      <td>0.541314</td>\n",
       "      <td>15706.8370</td>\n",
       "      <td>-211</td>\n",
       "      <td>-213</td>\n",
       "    </tr>\n",
       "    <tr>\n",
       "      <th>179997</th>\n",
       "      <td>30.50</td>\n",
       "      <td>1.674750</td>\n",
       "      <td>2.193961</td>\n",
       "      <td>0.019816</td>\n",
       "      <td>0.011431</td>\n",
       "      <td>0.787651</td>\n",
       "      <td>0.670452</td>\n",
       "      <td>0.343338</td>\n",
       "      <td>0.112708</td>\n",
       "      <td>0.017916</td>\n",
       "      <td>...</td>\n",
       "      <td>0.140798</td>\n",
       "      <td>-3.116873</td>\n",
       "      <td>-1.0</td>\n",
       "      <td>0</td>\n",
       "      <td>5216.26300</td>\n",
       "      <td>-3.116861</td>\n",
       "      <td>0.141633</td>\n",
       "      <td>5270.5180</td>\n",
       "      <td>-211</td>\n",
       "      <td>223</td>\n",
       "    </tr>\n",
       "    <tr>\n",
       "      <th>179998</th>\n",
       "      <td>36.50</td>\n",
       "      <td>0.040680</td>\n",
       "      <td>0.043097</td>\n",
       "      <td>0.008589</td>\n",
       "      <td>0.012814</td>\n",
       "      <td>0.619827</td>\n",
       "      <td>0.598550</td>\n",
       "      <td>0.342507</td>\n",
       "      <td>0.298415</td>\n",
       "      <td>-0.095350</td>\n",
       "      <td>...</td>\n",
       "      <td>1.321953</td>\n",
       "      <td>-0.292104</td>\n",
       "      <td>1.0</td>\n",
       "      <td>0</td>\n",
       "      <td>18433.30000</td>\n",
       "      <td>-0.292308</td>\n",
       "      <td>1.321826</td>\n",
       "      <td>37022.7270</td>\n",
       "      <td>211</td>\n",
       "      <td>113</td>\n",
       "    </tr>\n",
       "    <tr>\n",
       "      <th>179999</th>\n",
       "      <td>36.50</td>\n",
       "      <td>0.094807</td>\n",
       "      <td>0.093580</td>\n",
       "      <td>0.034028</td>\n",
       "      <td>0.012387</td>\n",
       "      <td>0.875625</td>\n",
       "      <td>0.807108</td>\n",
       "      <td>0.051374</td>\n",
       "      <td>0.205670</td>\n",
       "      <td>-0.163098</td>\n",
       "      <td>...</td>\n",
       "      <td>1.005307</td>\n",
       "      <td>0.700869</td>\n",
       "      <td>1.0</td>\n",
       "      <td>0</td>\n",
       "      <td>2356.66500</td>\n",
       "      <td>0.702720</td>\n",
       "      <td>1.006468</td>\n",
       "      <td>3657.1787</td>\n",
       "      <td>211</td>\n",
       "      <td>223</td>\n",
       "    </tr>\n",
       "  </tbody>\n",
       "</table>\n",
       "<p>180000 rows × 147 columns</p>\n",
       "</div>"
      ],
      "text/plain": [
       "        averageInteractionsPerCrossing   p_Rhad1    p_Rhad      p_f3  \\\n",
       "0                                29.49  0.105563  0.111953  0.000000   \n",
       "1                                17.50  0.001889  0.001663  0.007252   \n",
       "2                                30.50 -0.001041 -0.001294  0.006346   \n",
       "3                                46.49  0.000606  0.002833  0.005985   \n",
       "4                                31.50  0.024148  0.067781  0.034671   \n",
       "...                                ...       ...       ...       ...   \n",
       "179995                           36.50  0.492974  1.262969  0.025889   \n",
       "179996                           31.50  0.076596  0.572484  0.117248   \n",
       "179997                           30.50  1.674750  2.193961  0.019816   \n",
       "179998                           36.50  0.040680  0.043097  0.008589   \n",
       "179999                           36.50  0.094807  0.093580  0.034028   \n",
       "\n",
       "         p_weta2    p_Rphi    p_Reta  p_Eratio      p_f1  p_TRTPID  ...  \\\n",
       "0       0.020473  0.746226  0.671689  0.000000  0.000000  0.063020  ...   \n",
       "1       0.009059  0.944349  0.967633  0.955249  0.135955  0.059219  ...   \n",
       "2       0.008852  0.976413  0.959573  0.937885  0.171204 -0.105151  ...   \n",
       "3       0.009785  0.950910  0.945615  0.966444  0.263183 -0.026020  ...   \n",
       "4       0.009486  0.797810  0.670594  0.087876  0.373575  0.219026  ...   \n",
       "...          ...       ...       ...       ...       ...       ...  ...   \n",
       "179995  0.015685  0.472843  0.684885  0.287160  0.304126 -0.148706  ...   \n",
       "179996  0.009608  0.958072  0.936306  0.076313  0.274991 -0.109284  ...   \n",
       "179997  0.011431  0.787651  0.670452  0.343338  0.112708  0.017916  ...   \n",
       "179998  0.012814  0.619827  0.598550  0.342507  0.298415 -0.095350  ...   \n",
       "179999  0.012387  0.875625  0.807108  0.051374  0.205670 -0.163098  ...   \n",
       "\n",
       "           p_eta     p_phi  p_charge  p_Truth_isElectron   p_truth_pt  \\\n",
       "0      -1.425603 -0.859392      -1.0                   1   2815.96020   \n",
       "1      -0.380698 -1.014216      -1.0                   1  39207.48000   \n",
       "2       0.591333  2.983345       1.0                   1  64328.51600   \n",
       "3       1.006222  0.503709       1.0                   1  46312.54700   \n",
       "4      -1.674565  1.063436      -1.0                   1    858.65717   \n",
       "...          ...       ...       ...                 ...          ...   \n",
       "179995  0.540303 -3.105240       1.0                   0  32911.66400   \n",
       "179996  0.541794  1.783658      -1.0                   0  13656.11700   \n",
       "179997  0.140798 -3.116873      -1.0                   0   5216.26300   \n",
       "179998  1.321953 -0.292104       1.0                   0  18433.30000   \n",
       "179999  1.005307  0.700869       1.0                   0   2356.66500   \n",
       "\n",
       "        p_truth_phi  p_truth_eta  p_Truth_Energy  p_truth_pdgId  \\\n",
       "0         -0.828581    -1.425959       6198.1055             11   \n",
       "1         -1.014038    -0.380727      42083.5980             11   \n",
       "2          2.981821     0.592576      75957.2800            -11   \n",
       "3          0.503773     1.006411      71814.3700            -11   \n",
       "4          1.060842    -1.676498       2375.8310             11   \n",
       "...             ...          ...             ...            ...   \n",
       "179995    -3.105209     0.540659      37840.4920            211   \n",
       "179996     1.783581     0.541314      15706.8370           -211   \n",
       "179997    -3.116861     0.141633       5270.5180           -211   \n",
       "179998    -0.292308     1.321826      37022.7270            211   \n",
       "179999     0.702720     1.006468       3657.1787            211   \n",
       "\n",
       "        p_truth_parent_pdgId  \n",
       "0                         22  \n",
       "1                         23  \n",
       "2                         23  \n",
       "3                         23  \n",
       "4                        111  \n",
       "...                      ...  \n",
       "179995                     2  \n",
       "179996                  -213  \n",
       "179997                   223  \n",
       "179998                   113  \n",
       "179999                   223  \n",
       "\n",
       "[180000 rows x 147 columns]"
      ]
     },
     "execution_count": 11,
     "metadata": {},
     "output_type": "execute_result"
    }
   ],
   "source": [
    "trainDf"
   ]
  },
  {
   "cell_type": "code",
   "execution_count": 12,
   "metadata": {},
   "outputs": [],
   "source": [
    "def readTestData():\n",
    "    path = 'sources'\n",
    "    df_classification = pd.read_csv(path+'AppML_InitialProject_test_classification.csv')\n",
    "    df_clustering = pd.read_csv(path+'AppML_InitialProject_test_clustering.csv')\n",
    "    df_regression = pd.read_csv(path+'AppML_InitialProject_test_regression.csv')\n",
    "    return df_classification, df_clustering, df_regression\n",
    "testDf_clsf, testDf_clst, testDf_regs = readTestData()"
   ]
  },
  {
   "cell_type": "code",
   "execution_count": 13,
   "metadata": {},
   "outputs": [
    {
     "data": {
      "text/html": [
       "<div>\n",
       "<style scoped>\n",
       "    .dataframe tbody tr th:only-of-type {\n",
       "        vertical-align: middle;\n",
       "    }\n",
       "\n",
       "    .dataframe tbody tr th {\n",
       "        vertical-align: top;\n",
       "    }\n",
       "\n",
       "    .dataframe thead th {\n",
       "        text-align: right;\n",
       "    }\n",
       "</style>\n",
       "<table border=\"1\" class=\"dataframe\">\n",
       "  <thead>\n",
       "    <tr style=\"text-align: right;\">\n",
       "      <th></th>\n",
       "      <th>averageInteractionsPerCrossing</th>\n",
       "      <th>p_Rhad1</th>\n",
       "      <th>p_Rhad</th>\n",
       "      <th>p_f3</th>\n",
       "      <th>p_weta2</th>\n",
       "      <th>p_Rphi</th>\n",
       "      <th>p_Reta</th>\n",
       "      <th>p_Eratio</th>\n",
       "      <th>p_f1</th>\n",
       "      <th>p_TRTPID</th>\n",
       "      <th>...</th>\n",
       "      <th>pX_E7x11_Lr0</th>\n",
       "      <th>pX_E7x11_Lr1</th>\n",
       "      <th>pX_E7x11_Lr2</th>\n",
       "      <th>pX_E7x11_Lr3</th>\n",
       "      <th>pX_E7x7_Lr0</th>\n",
       "      <th>pX_E7x7_Lr1</th>\n",
       "      <th>p_pt_track</th>\n",
       "      <th>p_eta</th>\n",
       "      <th>p_phi</th>\n",
       "      <th>p_charge</th>\n",
       "    </tr>\n",
       "  </thead>\n",
       "  <tbody>\n",
       "    <tr>\n",
       "      <th>0</th>\n",
       "      <td>36.50</td>\n",
       "      <td>0.000463</td>\n",
       "      <td>-0.000876</td>\n",
       "      <td>0.002665</td>\n",
       "      <td>0.009376</td>\n",
       "      <td>0.937129</td>\n",
       "      <td>0.959152</td>\n",
       "      <td>0.984819</td>\n",
       "      <td>0.326582</td>\n",
       "      <td>0.238975</td>\n",
       "      <td>...</td>\n",
       "      <td>1868.9042</td>\n",
       "      <td>16364.933</td>\n",
       "      <td>33013.040</td>\n",
       "      <td>76.07219</td>\n",
       "      <td>1868.9042</td>\n",
       "      <td>16364.933</td>\n",
       "      <td>20527.746</td>\n",
       "      <td>0.325806</td>\n",
       "      <td>1.086726</td>\n",
       "      <td>1.0</td>\n",
       "    </tr>\n",
       "    <tr>\n",
       "      <th>1</th>\n",
       "      <td>48.50</td>\n",
       "      <td>0.050439</td>\n",
       "      <td>0.069607</td>\n",
       "      <td>0.028404</td>\n",
       "      <td>0.013048</td>\n",
       "      <td>0.700572</td>\n",
       "      <td>0.590812</td>\n",
       "      <td>0.000000</td>\n",
       "      <td>0.000000</td>\n",
       "      <td>-0.000000</td>\n",
       "      <td>...</td>\n",
       "      <td>0.0000</td>\n",
       "      <td>50501.242</td>\n",
       "      <td>182841.720</td>\n",
       "      <td>19097.24800</td>\n",
       "      <td>0.0000</td>\n",
       "      <td>50501.242</td>\n",
       "      <td>11949.609</td>\n",
       "      <td>-2.450711</td>\n",
       "      <td>0.354888</td>\n",
       "      <td>-1.0</td>\n",
       "    </tr>\n",
       "    <tr>\n",
       "      <th>2</th>\n",
       "      <td>32.50</td>\n",
       "      <td>0.002050</td>\n",
       "      <td>0.003029</td>\n",
       "      <td>0.007395</td>\n",
       "      <td>0.010444</td>\n",
       "      <td>0.963112</td>\n",
       "      <td>0.959066</td>\n",
       "      <td>0.985446</td>\n",
       "      <td>0.353189</td>\n",
       "      <td>0.666636</td>\n",
       "      <td>...</td>\n",
       "      <td>905.5605</td>\n",
       "      <td>13357.994</td>\n",
       "      <td>22515.666</td>\n",
       "      <td>314.40604</td>\n",
       "      <td>905.5605</td>\n",
       "      <td>13357.994</td>\n",
       "      <td>35849.570</td>\n",
       "      <td>0.140523</td>\n",
       "      <td>0.733514</td>\n",
       "      <td>-1.0</td>\n",
       "    </tr>\n",
       "    <tr>\n",
       "      <th>3</th>\n",
       "      <td>28.50</td>\n",
       "      <td>0.027664</td>\n",
       "      <td>0.043439</td>\n",
       "      <td>0.011525</td>\n",
       "      <td>0.011258</td>\n",
       "      <td>0.962601</td>\n",
       "      <td>0.948064</td>\n",
       "      <td>0.984326</td>\n",
       "      <td>0.345560</td>\n",
       "      <td>0.240108</td>\n",
       "      <td>...</td>\n",
       "      <td>0.0000</td>\n",
       "      <td>32864.360</td>\n",
       "      <td>61438.790</td>\n",
       "      <td>975.66034</td>\n",
       "      <td>0.0000</td>\n",
       "      <td>32864.360</td>\n",
       "      <td>18349.436</td>\n",
       "      <td>1.948463</td>\n",
       "      <td>-2.287875</td>\n",
       "      <td>1.0</td>\n",
       "    </tr>\n",
       "    <tr>\n",
       "      <th>4</th>\n",
       "      <td>20.49</td>\n",
       "      <td>-0.008994</td>\n",
       "      <td>-0.011444</td>\n",
       "      <td>0.007584</td>\n",
       "      <td>0.010042</td>\n",
       "      <td>0.965167</td>\n",
       "      <td>0.955182</td>\n",
       "      <td>0.993133</td>\n",
       "      <td>0.268595</td>\n",
       "      <td>0.139726</td>\n",
       "      <td>...</td>\n",
       "      <td>1970.9218</td>\n",
       "      <td>19733.762</td>\n",
       "      <td>51706.180</td>\n",
       "      <td>1139.15390</td>\n",
       "      <td>1970.9218</td>\n",
       "      <td>19761.928</td>\n",
       "      <td>54046.035</td>\n",
       "      <td>-0.726814</td>\n",
       "      <td>2.317220</td>\n",
       "      <td>-1.0</td>\n",
       "    </tr>\n",
       "    <tr>\n",
       "      <th>...</th>\n",
       "      <td>...</td>\n",
       "      <td>...</td>\n",
       "      <td>...</td>\n",
       "      <td>...</td>\n",
       "      <td>...</td>\n",
       "      <td>...</td>\n",
       "      <td>...</td>\n",
       "      <td>...</td>\n",
       "      <td>...</td>\n",
       "      <td>...</td>\n",
       "      <td>...</td>\n",
       "      <td>...</td>\n",
       "      <td>...</td>\n",
       "      <td>...</td>\n",
       "      <td>...</td>\n",
       "      <td>...</td>\n",
       "      <td>...</td>\n",
       "      <td>...</td>\n",
       "      <td>...</td>\n",
       "      <td>...</td>\n",
       "      <td>...</td>\n",
       "    </tr>\n",
       "    <tr>\n",
       "      <th>59995</th>\n",
       "      <td>34.50</td>\n",
       "      <td>0.450859</td>\n",
       "      <td>0.494188</td>\n",
       "      <td>0.000000</td>\n",
       "      <td>0.000000</td>\n",
       "      <td>0.000800</td>\n",
       "      <td>-0.004000</td>\n",
       "      <td>0.000000</td>\n",
       "      <td>0.000000</td>\n",
       "      <td>0.079010</td>\n",
       "      <td>...</td>\n",
       "      <td>26463.0250</td>\n",
       "      <td>36277.290</td>\n",
       "      <td>36799.094</td>\n",
       "      <td>154.07170</td>\n",
       "      <td>26463.0250</td>\n",
       "      <td>33269.820</td>\n",
       "      <td>15200.653</td>\n",
       "      <td>1.475503</td>\n",
       "      <td>-0.021296</td>\n",
       "      <td>1.0</td>\n",
       "    </tr>\n",
       "    <tr>\n",
       "      <th>59996</th>\n",
       "      <td>29.49</td>\n",
       "      <td>0.265472</td>\n",
       "      <td>0.720422</td>\n",
       "      <td>0.008196</td>\n",
       "      <td>0.010941</td>\n",
       "      <td>0.811148</td>\n",
       "      <td>0.919864</td>\n",
       "      <td>0.031265</td>\n",
       "      <td>0.258551</td>\n",
       "      <td>0.131573</td>\n",
       "      <td>...</td>\n",
       "      <td>5135.4090</td>\n",
       "      <td>11495.376</td>\n",
       "      <td>27522.310</td>\n",
       "      <td>170.00873</td>\n",
       "      <td>5135.4090</td>\n",
       "      <td>11495.376</td>\n",
       "      <td>12442.076</td>\n",
       "      <td>-0.858835</td>\n",
       "      <td>-1.879149</td>\n",
       "      <td>1.0</td>\n",
       "    </tr>\n",
       "    <tr>\n",
       "      <th>59997</th>\n",
       "      <td>49.50</td>\n",
       "      <td>0.192758</td>\n",
       "      <td>0.273979</td>\n",
       "      <td>0.126550</td>\n",
       "      <td>0.013108</td>\n",
       "      <td>0.923015</td>\n",
       "      <td>0.936289</td>\n",
       "      <td>0.000163</td>\n",
       "      <td>0.128086</td>\n",
       "      <td>0.324599</td>\n",
       "      <td>...</td>\n",
       "      <td>8782.7180</td>\n",
       "      <td>9258.149</td>\n",
       "      <td>55382.840</td>\n",
       "      <td>12358.93300</td>\n",
       "      <td>8782.7180</td>\n",
       "      <td>9258.149</td>\n",
       "      <td>44505.652</td>\n",
       "      <td>-1.699267</td>\n",
       "      <td>1.073709</td>\n",
       "      <td>-1.0</td>\n",
       "    </tr>\n",
       "    <tr>\n",
       "      <th>59998</th>\n",
       "      <td>35.50</td>\n",
       "      <td>0.345104</td>\n",
       "      <td>0.436920</td>\n",
       "      <td>0.034847</td>\n",
       "      <td>0.012072</td>\n",
       "      <td>0.802757</td>\n",
       "      <td>0.834948</td>\n",
       "      <td>0.000000</td>\n",
       "      <td>0.000000</td>\n",
       "      <td>-0.000000</td>\n",
       "      <td>...</td>\n",
       "      <td>0.0000</td>\n",
       "      <td>47620.070</td>\n",
       "      <td>217042.200</td>\n",
       "      <td>13176.30400</td>\n",
       "      <td>0.0000</td>\n",
       "      <td>47620.070</td>\n",
       "      <td>53259.473</td>\n",
       "      <td>2.468021</td>\n",
       "      <td>-2.511265</td>\n",
       "      <td>-1.0</td>\n",
       "    </tr>\n",
       "    <tr>\n",
       "      <th>59999</th>\n",
       "      <td>32.50</td>\n",
       "      <td>0.504557</td>\n",
       "      <td>1.157913</td>\n",
       "      <td>0.036084</td>\n",
       "      <td>0.012489</td>\n",
       "      <td>0.610682</td>\n",
       "      <td>0.799596</td>\n",
       "      <td>0.235095</td>\n",
       "      <td>0.274876</td>\n",
       "      <td>-0.050535</td>\n",
       "      <td>...</td>\n",
       "      <td>7059.6904</td>\n",
       "      <td>14305.989</td>\n",
       "      <td>80336.610</td>\n",
       "      <td>9013.75800</td>\n",
       "      <td>7059.6904</td>\n",
       "      <td>14292.997</td>\n",
       "      <td>6920.649</td>\n",
       "      <td>-0.703789</td>\n",
       "      <td>2.255874</td>\n",
       "      <td>1.0</td>\n",
       "    </tr>\n",
       "  </tbody>\n",
       "</table>\n",
       "<p>60000 rows × 140 columns</p>\n",
       "</div>"
      ],
      "text/plain": [
       "       averageInteractionsPerCrossing   p_Rhad1    p_Rhad      p_f3   p_weta2  \\\n",
       "0                               36.50  0.000463 -0.000876  0.002665  0.009376   \n",
       "1                               48.50  0.050439  0.069607  0.028404  0.013048   \n",
       "2                               32.50  0.002050  0.003029  0.007395  0.010444   \n",
       "3                               28.50  0.027664  0.043439  0.011525  0.011258   \n",
       "4                               20.49 -0.008994 -0.011444  0.007584  0.010042   \n",
       "...                               ...       ...       ...       ...       ...   \n",
       "59995                           34.50  0.450859  0.494188  0.000000  0.000000   \n",
       "59996                           29.49  0.265472  0.720422  0.008196  0.010941   \n",
       "59997                           49.50  0.192758  0.273979  0.126550  0.013108   \n",
       "59998                           35.50  0.345104  0.436920  0.034847  0.012072   \n",
       "59999                           32.50  0.504557  1.157913  0.036084  0.012489   \n",
       "\n",
       "         p_Rphi    p_Reta  p_Eratio      p_f1  p_TRTPID  ...  pX_E7x11_Lr0  \\\n",
       "0      0.937129  0.959152  0.984819  0.326582  0.238975  ...     1868.9042   \n",
       "1      0.700572  0.590812  0.000000  0.000000 -0.000000  ...        0.0000   \n",
       "2      0.963112  0.959066  0.985446  0.353189  0.666636  ...      905.5605   \n",
       "3      0.962601  0.948064  0.984326  0.345560  0.240108  ...        0.0000   \n",
       "4      0.965167  0.955182  0.993133  0.268595  0.139726  ...     1970.9218   \n",
       "...         ...       ...       ...       ...       ...  ...           ...   \n",
       "59995  0.000800 -0.004000  0.000000  0.000000  0.079010  ...    26463.0250   \n",
       "59996  0.811148  0.919864  0.031265  0.258551  0.131573  ...     5135.4090   \n",
       "59997  0.923015  0.936289  0.000163  0.128086  0.324599  ...     8782.7180   \n",
       "59998  0.802757  0.834948  0.000000  0.000000 -0.000000  ...        0.0000   \n",
       "59999  0.610682  0.799596  0.235095  0.274876 -0.050535  ...     7059.6904   \n",
       "\n",
       "       pX_E7x11_Lr1  pX_E7x11_Lr2  pX_E7x11_Lr3  pX_E7x7_Lr0  pX_E7x7_Lr1  \\\n",
       "0         16364.933     33013.040      76.07219    1868.9042    16364.933   \n",
       "1         50501.242    182841.720   19097.24800       0.0000    50501.242   \n",
       "2         13357.994     22515.666     314.40604     905.5605    13357.994   \n",
       "3         32864.360     61438.790     975.66034       0.0000    32864.360   \n",
       "4         19733.762     51706.180    1139.15390    1970.9218    19761.928   \n",
       "...             ...           ...           ...          ...          ...   \n",
       "59995     36277.290     36799.094     154.07170   26463.0250    33269.820   \n",
       "59996     11495.376     27522.310     170.00873    5135.4090    11495.376   \n",
       "59997      9258.149     55382.840   12358.93300    8782.7180     9258.149   \n",
       "59998     47620.070    217042.200   13176.30400       0.0000    47620.070   \n",
       "59999     14305.989     80336.610    9013.75800    7059.6904    14292.997   \n",
       "\n",
       "       p_pt_track     p_eta     p_phi  p_charge  \n",
       "0       20527.746  0.325806  1.086726       1.0  \n",
       "1       11949.609 -2.450711  0.354888      -1.0  \n",
       "2       35849.570  0.140523  0.733514      -1.0  \n",
       "3       18349.436  1.948463 -2.287875       1.0  \n",
       "4       54046.035 -0.726814  2.317220      -1.0  \n",
       "...           ...       ...       ...       ...  \n",
       "59995   15200.653  1.475503 -0.021296       1.0  \n",
       "59996   12442.076 -0.858835 -1.879149       1.0  \n",
       "59997   44505.652 -1.699267  1.073709      -1.0  \n",
       "59998   53259.473  2.468021 -2.511265      -1.0  \n",
       "59999    6920.649 -0.703789  2.255874       1.0  \n",
       "\n",
       "[60000 rows x 140 columns]"
      ]
     },
     "execution_count": 13,
     "metadata": {},
     "output_type": "execute_result"
    }
   ],
   "source": [
    "testDf_clsf"
   ]
  },
  {
   "cell_type": "code",
   "execution_count": 14,
   "metadata": {},
   "outputs": [
    {
     "data": {
      "text/html": [
       "<div>\n",
       "<style scoped>\n",
       "    .dataframe tbody tr th:only-of-type {\n",
       "        vertical-align: middle;\n",
       "    }\n",
       "\n",
       "    .dataframe tbody tr th {\n",
       "        vertical-align: top;\n",
       "    }\n",
       "\n",
       "    .dataframe thead th {\n",
       "        text-align: right;\n",
       "    }\n",
       "</style>\n",
       "<table border=\"1\" class=\"dataframe\">\n",
       "  <thead>\n",
       "    <tr style=\"text-align: right;\">\n",
       "      <th></th>\n",
       "      <th>averageInteractionsPerCrossing</th>\n",
       "      <th>p_Rhad1</th>\n",
       "      <th>p_Rhad</th>\n",
       "      <th>p_f3</th>\n",
       "      <th>p_weta2</th>\n",
       "      <th>p_Rphi</th>\n",
       "      <th>p_Reta</th>\n",
       "      <th>p_Eratio</th>\n",
       "      <th>p_f1</th>\n",
       "      <th>p_TRTPID</th>\n",
       "      <th>...</th>\n",
       "      <th>pX_E7x11_Lr0</th>\n",
       "      <th>pX_E7x11_Lr1</th>\n",
       "      <th>pX_E7x11_Lr2</th>\n",
       "      <th>pX_E7x11_Lr3</th>\n",
       "      <th>pX_E7x7_Lr0</th>\n",
       "      <th>pX_E7x7_Lr1</th>\n",
       "      <th>p_pt_track</th>\n",
       "      <th>p_eta</th>\n",
       "      <th>p_phi</th>\n",
       "      <th>p_charge</th>\n",
       "    </tr>\n",
       "  </thead>\n",
       "  <tbody>\n",
       "    <tr>\n",
       "      <th>0</th>\n",
       "      <td>48.50</td>\n",
       "      <td>0.002621</td>\n",
       "      <td>0.003149</td>\n",
       "      <td>0.000421</td>\n",
       "      <td>0.012095</td>\n",
       "      <td>0.873118</td>\n",
       "      <td>0.837550</td>\n",
       "      <td>0.000000</td>\n",
       "      <td>0.000000</td>\n",
       "      <td>0.231180</td>\n",
       "      <td>...</td>\n",
       "      <td>26052.62100</td>\n",
       "      <td>18763.9260</td>\n",
       "      <td>13017.211</td>\n",
       "      <td>-57.970287</td>\n",
       "      <td>26052.62100</td>\n",
       "      <td>18820.9820</td>\n",
       "      <td>48257.5500</td>\n",
       "      <td>-1.505234</td>\n",
       "      <td>1.175829</td>\n",
       "      <td>-1.0</td>\n",
       "    </tr>\n",
       "    <tr>\n",
       "      <th>1</th>\n",
       "      <td>39.49</td>\n",
       "      <td>0.014003</td>\n",
       "      <td>0.008869</td>\n",
       "      <td>0.041638</td>\n",
       "      <td>0.010281</td>\n",
       "      <td>0.925357</td>\n",
       "      <td>0.940242</td>\n",
       "      <td>0.950630</td>\n",
       "      <td>0.135817</td>\n",
       "      <td>0.303750</td>\n",
       "      <td>...</td>\n",
       "      <td>0.00000</td>\n",
       "      <td>18765.0780</td>\n",
       "      <td>119595.300</td>\n",
       "      <td>6125.241700</td>\n",
       "      <td>0.00000</td>\n",
       "      <td>18734.8180</td>\n",
       "      <td>33935.6500</td>\n",
       "      <td>1.995196</td>\n",
       "      <td>-1.292367</td>\n",
       "      <td>1.0</td>\n",
       "    </tr>\n",
       "    <tr>\n",
       "      <th>2</th>\n",
       "      <td>25.49</td>\n",
       "      <td>0.007870</td>\n",
       "      <td>0.009702</td>\n",
       "      <td>0.004270</td>\n",
       "      <td>0.010424</td>\n",
       "      <td>0.939269</td>\n",
       "      <td>0.958781</td>\n",
       "      <td>0.984077</td>\n",
       "      <td>0.391043</td>\n",
       "      <td>0.041206</td>\n",
       "      <td>...</td>\n",
       "      <td>4592.48900</td>\n",
       "      <td>21492.4510</td>\n",
       "      <td>28992.730</td>\n",
       "      <td>596.587800</td>\n",
       "      <td>4592.48900</td>\n",
       "      <td>21492.4510</td>\n",
       "      <td>44557.0900</td>\n",
       "      <td>-0.797741</td>\n",
       "      <td>-1.067770</td>\n",
       "      <td>-1.0</td>\n",
       "    </tr>\n",
       "    <tr>\n",
       "      <th>3</th>\n",
       "      <td>28.50</td>\n",
       "      <td>0.001414</td>\n",
       "      <td>-0.004248</td>\n",
       "      <td>0.012807</td>\n",
       "      <td>0.013539</td>\n",
       "      <td>0.916596</td>\n",
       "      <td>0.913783</td>\n",
       "      <td>0.991349</td>\n",
       "      <td>0.516933</td>\n",
       "      <td>-0.000000</td>\n",
       "      <td>...</td>\n",
       "      <td>0.00000</td>\n",
       "      <td>50264.5740</td>\n",
       "      <td>51692.957</td>\n",
       "      <td>-31.530766</td>\n",
       "      <td>0.00000</td>\n",
       "      <td>50264.5740</td>\n",
       "      <td>9718.2190</td>\n",
       "      <td>-2.276100</td>\n",
       "      <td>1.133550</td>\n",
       "      <td>1.0</td>\n",
       "    </tr>\n",
       "    <tr>\n",
       "      <th>4</th>\n",
       "      <td>23.50</td>\n",
       "      <td>0.000988</td>\n",
       "      <td>-0.023321</td>\n",
       "      <td>0.010335</td>\n",
       "      <td>0.010201</td>\n",
       "      <td>0.816869</td>\n",
       "      <td>0.921899</td>\n",
       "      <td>0.941022</td>\n",
       "      <td>0.390446</td>\n",
       "      <td>1.016616</td>\n",
       "      <td>...</td>\n",
       "      <td>688.87744</td>\n",
       "      <td>42935.8480</td>\n",
       "      <td>68867.445</td>\n",
       "      <td>590.925900</td>\n",
       "      <td>688.87744</td>\n",
       "      <td>42935.8480</td>\n",
       "      <td>25790.2190</td>\n",
       "      <td>1.871118</td>\n",
       "      <td>-0.622213</td>\n",
       "      <td>1.0</td>\n",
       "    </tr>\n",
       "    <tr>\n",
       "      <th>...</th>\n",
       "      <td>...</td>\n",
       "      <td>...</td>\n",
       "      <td>...</td>\n",
       "      <td>...</td>\n",
       "      <td>...</td>\n",
       "      <td>...</td>\n",
       "      <td>...</td>\n",
       "      <td>...</td>\n",
       "      <td>...</td>\n",
       "      <td>...</td>\n",
       "      <td>...</td>\n",
       "      <td>...</td>\n",
       "      <td>...</td>\n",
       "      <td>...</td>\n",
       "      <td>...</td>\n",
       "      <td>...</td>\n",
       "      <td>...</td>\n",
       "      <td>...</td>\n",
       "      <td>...</td>\n",
       "      <td>...</td>\n",
       "      <td>...</td>\n",
       "    </tr>\n",
       "    <tr>\n",
       "      <th>19995</th>\n",
       "      <td>41.49</td>\n",
       "      <td>0.228431</td>\n",
       "      <td>0.522523</td>\n",
       "      <td>0.004807</td>\n",
       "      <td>0.015567</td>\n",
       "      <td>0.755933</td>\n",
       "      <td>0.467267</td>\n",
       "      <td>0.545339</td>\n",
       "      <td>0.469139</td>\n",
       "      <td>0.102263</td>\n",
       "      <td>...</td>\n",
       "      <td>2119.91600</td>\n",
       "      <td>19943.8500</td>\n",
       "      <td>43843.484</td>\n",
       "      <td>2144.287000</td>\n",
       "      <td>2119.91600</td>\n",
       "      <td>19865.7100</td>\n",
       "      <td>13294.7360</td>\n",
       "      <td>-0.125354</td>\n",
       "      <td>1.901233</td>\n",
       "      <td>-1.0</td>\n",
       "    </tr>\n",
       "    <tr>\n",
       "      <th>19996</th>\n",
       "      <td>33.50</td>\n",
       "      <td>0.046517</td>\n",
       "      <td>0.324909</td>\n",
       "      <td>0.006538</td>\n",
       "      <td>0.011492</td>\n",
       "      <td>0.845218</td>\n",
       "      <td>0.831077</td>\n",
       "      <td>0.085903</td>\n",
       "      <td>0.220015</td>\n",
       "      <td>-0.015957</td>\n",
       "      <td>...</td>\n",
       "      <td>3875.20310</td>\n",
       "      <td>7355.2130</td>\n",
       "      <td>26095.656</td>\n",
       "      <td>1062.750000</td>\n",
       "      <td>3875.20310</td>\n",
       "      <td>7355.2130</td>\n",
       "      <td>12671.7760</td>\n",
       "      <td>1.015306</td>\n",
       "      <td>2.975697</td>\n",
       "      <td>1.0</td>\n",
       "    </tr>\n",
       "    <tr>\n",
       "      <th>19997</th>\n",
       "      <td>20.49</td>\n",
       "      <td>0.903955</td>\n",
       "      <td>1.183762</td>\n",
       "      <td>0.073063</td>\n",
       "      <td>0.013042</td>\n",
       "      <td>0.804634</td>\n",
       "      <td>0.686622</td>\n",
       "      <td>0.804377</td>\n",
       "      <td>0.249756</td>\n",
       "      <td>0.024105</td>\n",
       "      <td>...</td>\n",
       "      <td>2255.14300</td>\n",
       "      <td>6096.4795</td>\n",
       "      <td>17283.645</td>\n",
       "      <td>4235.365000</td>\n",
       "      <td>2255.14300</td>\n",
       "      <td>6096.4795</td>\n",
       "      <td>33278.6700</td>\n",
       "      <td>0.653617</td>\n",
       "      <td>0.767755</td>\n",
       "      <td>-1.0</td>\n",
       "    </tr>\n",
       "    <tr>\n",
       "      <th>19998</th>\n",
       "      <td>37.50</td>\n",
       "      <td>0.381709</td>\n",
       "      <td>0.706533</td>\n",
       "      <td>0.019395</td>\n",
       "      <td>0.011556</td>\n",
       "      <td>0.852819</td>\n",
       "      <td>0.860969</td>\n",
       "      <td>0.110009</td>\n",
       "      <td>0.221309</td>\n",
       "      <td>-0.039300</td>\n",
       "      <td>...</td>\n",
       "      <td>3007.39580</td>\n",
       "      <td>15878.5160</td>\n",
       "      <td>46878.400</td>\n",
       "      <td>4535.643000</td>\n",
       "      <td>3007.39580</td>\n",
       "      <td>15878.5160</td>\n",
       "      <td>3054.2612</td>\n",
       "      <td>0.528555</td>\n",
       "      <td>-1.317966</td>\n",
       "      <td>-1.0</td>\n",
       "    </tr>\n",
       "    <tr>\n",
       "      <th>19999</th>\n",
       "      <td>43.49</td>\n",
       "      <td>0.144608</td>\n",
       "      <td>0.383393</td>\n",
       "      <td>0.028349</td>\n",
       "      <td>0.012207</td>\n",
       "      <td>0.745020</td>\n",
       "      <td>0.797637</td>\n",
       "      <td>0.529254</td>\n",
       "      <td>0.053282</td>\n",
       "      <td>-0.090513</td>\n",
       "      <td>...</td>\n",
       "      <td>3279.64920</td>\n",
       "      <td>5035.7227</td>\n",
       "      <td>27648.562</td>\n",
       "      <td>1197.610800</td>\n",
       "      <td>3279.64920</td>\n",
       "      <td>5119.8027</td>\n",
       "      <td>21357.5140</td>\n",
       "      <td>-0.909001</td>\n",
       "      <td>-0.143427</td>\n",
       "      <td>-1.0</td>\n",
       "    </tr>\n",
       "  </tbody>\n",
       "</table>\n",
       "<p>20000 rows × 140 columns</p>\n",
       "</div>"
      ],
      "text/plain": [
       "       averageInteractionsPerCrossing   p_Rhad1    p_Rhad      p_f3   p_weta2  \\\n",
       "0                               48.50  0.002621  0.003149  0.000421  0.012095   \n",
       "1                               39.49  0.014003  0.008869  0.041638  0.010281   \n",
       "2                               25.49  0.007870  0.009702  0.004270  0.010424   \n",
       "3                               28.50  0.001414 -0.004248  0.012807  0.013539   \n",
       "4                               23.50  0.000988 -0.023321  0.010335  0.010201   \n",
       "...                               ...       ...       ...       ...       ...   \n",
       "19995                           41.49  0.228431  0.522523  0.004807  0.015567   \n",
       "19996                           33.50  0.046517  0.324909  0.006538  0.011492   \n",
       "19997                           20.49  0.903955  1.183762  0.073063  0.013042   \n",
       "19998                           37.50  0.381709  0.706533  0.019395  0.011556   \n",
       "19999                           43.49  0.144608  0.383393  0.028349  0.012207   \n",
       "\n",
       "         p_Rphi    p_Reta  p_Eratio      p_f1  p_TRTPID  ...  pX_E7x11_Lr0  \\\n",
       "0      0.873118  0.837550  0.000000  0.000000  0.231180  ...   26052.62100   \n",
       "1      0.925357  0.940242  0.950630  0.135817  0.303750  ...       0.00000   \n",
       "2      0.939269  0.958781  0.984077  0.391043  0.041206  ...    4592.48900   \n",
       "3      0.916596  0.913783  0.991349  0.516933 -0.000000  ...       0.00000   \n",
       "4      0.816869  0.921899  0.941022  0.390446  1.016616  ...     688.87744   \n",
       "...         ...       ...       ...       ...       ...  ...           ...   \n",
       "19995  0.755933  0.467267  0.545339  0.469139  0.102263  ...    2119.91600   \n",
       "19996  0.845218  0.831077  0.085903  0.220015 -0.015957  ...    3875.20310   \n",
       "19997  0.804634  0.686622  0.804377  0.249756  0.024105  ...    2255.14300   \n",
       "19998  0.852819  0.860969  0.110009  0.221309 -0.039300  ...    3007.39580   \n",
       "19999  0.745020  0.797637  0.529254  0.053282 -0.090513  ...    3279.64920   \n",
       "\n",
       "       pX_E7x11_Lr1  pX_E7x11_Lr2  pX_E7x11_Lr3  pX_E7x7_Lr0  pX_E7x7_Lr1  \\\n",
       "0        18763.9260     13017.211    -57.970287  26052.62100   18820.9820   \n",
       "1        18765.0780    119595.300   6125.241700      0.00000   18734.8180   \n",
       "2        21492.4510     28992.730    596.587800   4592.48900   21492.4510   \n",
       "3        50264.5740     51692.957    -31.530766      0.00000   50264.5740   \n",
       "4        42935.8480     68867.445    590.925900    688.87744   42935.8480   \n",
       "...             ...           ...           ...          ...          ...   \n",
       "19995    19943.8500     43843.484   2144.287000   2119.91600   19865.7100   \n",
       "19996     7355.2130     26095.656   1062.750000   3875.20310    7355.2130   \n",
       "19997     6096.4795     17283.645   4235.365000   2255.14300    6096.4795   \n",
       "19998    15878.5160     46878.400   4535.643000   3007.39580   15878.5160   \n",
       "19999     5035.7227     27648.562   1197.610800   3279.64920    5119.8027   \n",
       "\n",
       "       p_pt_track     p_eta     p_phi  p_charge  \n",
       "0      48257.5500 -1.505234  1.175829      -1.0  \n",
       "1      33935.6500  1.995196 -1.292367       1.0  \n",
       "2      44557.0900 -0.797741 -1.067770      -1.0  \n",
       "3       9718.2190 -2.276100  1.133550       1.0  \n",
       "4      25790.2190  1.871118 -0.622213       1.0  \n",
       "...           ...       ...       ...       ...  \n",
       "19995  13294.7360 -0.125354  1.901233      -1.0  \n",
       "19996  12671.7760  1.015306  2.975697       1.0  \n",
       "19997  33278.6700  0.653617  0.767755      -1.0  \n",
       "19998   3054.2612  0.528555 -1.317966      -1.0  \n",
       "19999  21357.5140 -0.909001 -0.143427      -1.0  \n",
       "\n",
       "[20000 rows x 140 columns]"
      ]
     },
     "execution_count": 14,
     "metadata": {},
     "output_type": "execute_result"
    }
   ],
   "source": [
    "testDf_clst"
   ]
  },
  {
   "cell_type": "code",
   "execution_count": 15,
   "metadata": {},
   "outputs": [
    {
     "data": {
      "text/html": [
       "<div>\n",
       "<style scoped>\n",
       "    .dataframe tbody tr th:only-of-type {\n",
       "        vertical-align: middle;\n",
       "    }\n",
       "\n",
       "    .dataframe tbody tr th {\n",
       "        vertical-align: top;\n",
       "    }\n",
       "\n",
       "    .dataframe thead th {\n",
       "        text-align: right;\n",
       "    }\n",
       "</style>\n",
       "<table border=\"1\" class=\"dataframe\">\n",
       "  <thead>\n",
       "    <tr style=\"text-align: right;\">\n",
       "      <th></th>\n",
       "      <th>averageInteractionsPerCrossing</th>\n",
       "      <th>p_Rhad1</th>\n",
       "      <th>p_Rhad</th>\n",
       "      <th>p_f3</th>\n",
       "      <th>p_weta2</th>\n",
       "      <th>p_Rphi</th>\n",
       "      <th>p_Reta</th>\n",
       "      <th>p_Eratio</th>\n",
       "      <th>p_f1</th>\n",
       "      <th>p_TRTPID</th>\n",
       "      <th>...</th>\n",
       "      <th>pX_E7x11_Lr0</th>\n",
       "      <th>pX_E7x11_Lr1</th>\n",
       "      <th>pX_E7x11_Lr2</th>\n",
       "      <th>pX_E7x11_Lr3</th>\n",
       "      <th>pX_E7x7_Lr0</th>\n",
       "      <th>pX_E7x7_Lr1</th>\n",
       "      <th>p_pt_track</th>\n",
       "      <th>p_eta</th>\n",
       "      <th>p_phi</th>\n",
       "      <th>p_charge</th>\n",
       "    </tr>\n",
       "  </thead>\n",
       "  <tbody>\n",
       "    <tr>\n",
       "      <th>0</th>\n",
       "      <td>36.50</td>\n",
       "      <td>-0.006231</td>\n",
       "      <td>-0.004756</td>\n",
       "      <td>0.000000</td>\n",
       "      <td>0.011021</td>\n",
       "      <td>0.939902</td>\n",
       "      <td>0.933349</td>\n",
       "      <td>0.940145</td>\n",
       "      <td>0.240089</td>\n",
       "      <td>0.742557</td>\n",
       "      <td>...</td>\n",
       "      <td>9555.348000</td>\n",
       "      <td>12439.4170</td>\n",
       "      <td>30005.940</td>\n",
       "      <td>30.267273</td>\n",
       "      <td>9555.348000</td>\n",
       "      <td>12439.4170</td>\n",
       "      <td>27331.0250</td>\n",
       "      <td>-1.356775</td>\n",
       "      <td>2.437287</td>\n",
       "      <td>1.0</td>\n",
       "    </tr>\n",
       "    <tr>\n",
       "      <th>1</th>\n",
       "      <td>27.50</td>\n",
       "      <td>0.069768</td>\n",
       "      <td>0.066464</td>\n",
       "      <td>0.008597</td>\n",
       "      <td>0.010425</td>\n",
       "      <td>0.947139</td>\n",
       "      <td>0.956537</td>\n",
       "      <td>0.954305</td>\n",
       "      <td>0.378152</td>\n",
       "      <td>0.053620</td>\n",
       "      <td>...</td>\n",
       "      <td>-32.166813</td>\n",
       "      <td>7150.0110</td>\n",
       "      <td>11357.543</td>\n",
       "      <td>223.495700</td>\n",
       "      <td>-32.166813</td>\n",
       "      <td>7150.0110</td>\n",
       "      <td>14839.9460</td>\n",
       "      <td>0.758425</td>\n",
       "      <td>0.424543</td>\n",
       "      <td>1.0</td>\n",
       "    </tr>\n",
       "    <tr>\n",
       "      <th>2</th>\n",
       "      <td>38.50</td>\n",
       "      <td>0.031475</td>\n",
       "      <td>0.032103</td>\n",
       "      <td>0.006010</td>\n",
       "      <td>0.009790</td>\n",
       "      <td>0.971168</td>\n",
       "      <td>0.975648</td>\n",
       "      <td>0.982716</td>\n",
       "      <td>0.261825</td>\n",
       "      <td>0.348544</td>\n",
       "      <td>...</td>\n",
       "      <td>930.292700</td>\n",
       "      <td>13870.4400</td>\n",
       "      <td>37771.043</td>\n",
       "      <td>235.996550</td>\n",
       "      <td>930.292700</td>\n",
       "      <td>13870.4400</td>\n",
       "      <td>47934.7800</td>\n",
       "      <td>0.451583</td>\n",
       "      <td>1.543324</td>\n",
       "      <td>1.0</td>\n",
       "    </tr>\n",
       "    <tr>\n",
       "      <th>3</th>\n",
       "      <td>44.49</td>\n",
       "      <td>0.255715</td>\n",
       "      <td>0.598475</td>\n",
       "      <td>0.023568</td>\n",
       "      <td>0.017368</td>\n",
       "      <td>0.759111</td>\n",
       "      <td>0.413124</td>\n",
       "      <td>0.000000</td>\n",
       "      <td>0.000000</td>\n",
       "      <td>-0.000000</td>\n",
       "      <td>...</td>\n",
       "      <td>0.000000</td>\n",
       "      <td>30461.0350</td>\n",
       "      <td>101239.040</td>\n",
       "      <td>17743.662000</td>\n",
       "      <td>0.000000</td>\n",
       "      <td>30461.0350</td>\n",
       "      <td>1547.0653</td>\n",
       "      <td>2.386935</td>\n",
       "      <td>-2.541257</td>\n",
       "      <td>-1.0</td>\n",
       "    </tr>\n",
       "    <tr>\n",
       "      <th>4</th>\n",
       "      <td>46.49</td>\n",
       "      <td>-0.002943</td>\n",
       "      <td>0.000832</td>\n",
       "      <td>0.005014</td>\n",
       "      <td>0.009650</td>\n",
       "      <td>0.978518</td>\n",
       "      <td>0.975219</td>\n",
       "      <td>0.989922</td>\n",
       "      <td>0.400065</td>\n",
       "      <td>0.328410</td>\n",
       "      <td>...</td>\n",
       "      <td>716.887100</td>\n",
       "      <td>16007.3790</td>\n",
       "      <td>25491.777</td>\n",
       "      <td>280.913300</td>\n",
       "      <td>716.887100</td>\n",
       "      <td>16007.3790</td>\n",
       "      <td>38393.7200</td>\n",
       "      <td>-0.595902</td>\n",
       "      <td>2.444494</td>\n",
       "      <td>1.0</td>\n",
       "    </tr>\n",
       "    <tr>\n",
       "      <th>...</th>\n",
       "      <td>...</td>\n",
       "      <td>...</td>\n",
       "      <td>...</td>\n",
       "      <td>...</td>\n",
       "      <td>...</td>\n",
       "      <td>...</td>\n",
       "      <td>...</td>\n",
       "      <td>...</td>\n",
       "      <td>...</td>\n",
       "      <td>...</td>\n",
       "      <td>...</td>\n",
       "      <td>...</td>\n",
       "      <td>...</td>\n",
       "      <td>...</td>\n",
       "      <td>...</td>\n",
       "      <td>...</td>\n",
       "      <td>...</td>\n",
       "      <td>...</td>\n",
       "      <td>...</td>\n",
       "      <td>...</td>\n",
       "      <td>...</td>\n",
       "    </tr>\n",
       "    <tr>\n",
       "      <th>39995</th>\n",
       "      <td>45.49</td>\n",
       "      <td>0.639871</td>\n",
       "      <td>0.931700</td>\n",
       "      <td>0.047565</td>\n",
       "      <td>0.014313</td>\n",
       "      <td>0.751563</td>\n",
       "      <td>0.481971</td>\n",
       "      <td>0.049648</td>\n",
       "      <td>0.222836</td>\n",
       "      <td>0.182798</td>\n",
       "      <td>...</td>\n",
       "      <td>1919.307000</td>\n",
       "      <td>5069.9614</td>\n",
       "      <td>12153.055</td>\n",
       "      <td>1186.884900</td>\n",
       "      <td>2981.303000</td>\n",
       "      <td>3690.7695</td>\n",
       "      <td>13794.3930</td>\n",
       "      <td>-0.908004</td>\n",
       "      <td>-2.500148</td>\n",
       "      <td>-1.0</td>\n",
       "    </tr>\n",
       "    <tr>\n",
       "      <th>39996</th>\n",
       "      <td>23.50</td>\n",
       "      <td>0.035678</td>\n",
       "      <td>0.035608</td>\n",
       "      <td>0.006525</td>\n",
       "      <td>0.013475</td>\n",
       "      <td>0.553298</td>\n",
       "      <td>0.772175</td>\n",
       "      <td>0.485771</td>\n",
       "      <td>0.300058</td>\n",
       "      <td>-0.134290</td>\n",
       "      <td>...</td>\n",
       "      <td>12320.759000</td>\n",
       "      <td>9364.2210</td>\n",
       "      <td>18286.041</td>\n",
       "      <td>3545.511200</td>\n",
       "      <td>12481.400000</td>\n",
       "      <td>10613.4300</td>\n",
       "      <td>24288.5330</td>\n",
       "      <td>1.532268</td>\n",
       "      <td>1.387485</td>\n",
       "      <td>-1.0</td>\n",
       "    </tr>\n",
       "    <tr>\n",
       "      <th>39997</th>\n",
       "      <td>30.50</td>\n",
       "      <td>0.506169</td>\n",
       "      <td>1.408881</td>\n",
       "      <td>0.004859</td>\n",
       "      <td>0.012234</td>\n",
       "      <td>0.749204</td>\n",
       "      <td>0.798801</td>\n",
       "      <td>0.289237</td>\n",
       "      <td>0.297742</td>\n",
       "      <td>-0.078994</td>\n",
       "      <td>...</td>\n",
       "      <td>3829.177200</td>\n",
       "      <td>10531.5870</td>\n",
       "      <td>22682.910</td>\n",
       "      <td>922.046450</td>\n",
       "      <td>4448.633300</td>\n",
       "      <td>8834.5300</td>\n",
       "      <td>46904.3700</td>\n",
       "      <td>0.871931</td>\n",
       "      <td>0.338847</td>\n",
       "      <td>-1.0</td>\n",
       "    </tr>\n",
       "    <tr>\n",
       "      <th>39998</th>\n",
       "      <td>34.50</td>\n",
       "      <td>0.029772</td>\n",
       "      <td>0.015480</td>\n",
       "      <td>0.013480</td>\n",
       "      <td>0.012181</td>\n",
       "      <td>0.855929</td>\n",
       "      <td>0.755831</td>\n",
       "      <td>0.303872</td>\n",
       "      <td>0.201922</td>\n",
       "      <td>-0.044859</td>\n",
       "      <td>...</td>\n",
       "      <td>0.000000</td>\n",
       "      <td>29014.9770</td>\n",
       "      <td>87093.380</td>\n",
       "      <td>2459.278600</td>\n",
       "      <td>0.000000</td>\n",
       "      <td>28916.5590</td>\n",
       "      <td>14215.0450</td>\n",
       "      <td>1.921771</td>\n",
       "      <td>-0.448903</td>\n",
       "      <td>1.0</td>\n",
       "    </tr>\n",
       "    <tr>\n",
       "      <th>39999</th>\n",
       "      <td>13.50</td>\n",
       "      <td>0.669788</td>\n",
       "      <td>0.995278</td>\n",
       "      <td>0.046054</td>\n",
       "      <td>0.011679</td>\n",
       "      <td>0.805930</td>\n",
       "      <td>0.838096</td>\n",
       "      <td>0.653794</td>\n",
       "      <td>0.124278</td>\n",
       "      <td>-0.238751</td>\n",
       "      <td>...</td>\n",
       "      <td>863.303960</td>\n",
       "      <td>3031.3777</td>\n",
       "      <td>16774.076</td>\n",
       "      <td>2193.870400</td>\n",
       "      <td>649.625800</td>\n",
       "      <td>2132.7990</td>\n",
       "      <td>24046.2910</td>\n",
       "      <td>-0.027573</td>\n",
       "      <td>2.514383</td>\n",
       "      <td>1.0</td>\n",
       "    </tr>\n",
       "  </tbody>\n",
       "</table>\n",
       "<p>40000 rows × 140 columns</p>\n",
       "</div>"
      ],
      "text/plain": [
       "       averageInteractionsPerCrossing   p_Rhad1    p_Rhad      p_f3   p_weta2  \\\n",
       "0                               36.50 -0.006231 -0.004756  0.000000  0.011021   \n",
       "1                               27.50  0.069768  0.066464  0.008597  0.010425   \n",
       "2                               38.50  0.031475  0.032103  0.006010  0.009790   \n",
       "3                               44.49  0.255715  0.598475  0.023568  0.017368   \n",
       "4                               46.49 -0.002943  0.000832  0.005014  0.009650   \n",
       "...                               ...       ...       ...       ...       ...   \n",
       "39995                           45.49  0.639871  0.931700  0.047565  0.014313   \n",
       "39996                           23.50  0.035678  0.035608  0.006525  0.013475   \n",
       "39997                           30.50  0.506169  1.408881  0.004859  0.012234   \n",
       "39998                           34.50  0.029772  0.015480  0.013480  0.012181   \n",
       "39999                           13.50  0.669788  0.995278  0.046054  0.011679   \n",
       "\n",
       "         p_Rphi    p_Reta  p_Eratio      p_f1  p_TRTPID  ...  pX_E7x11_Lr0  \\\n",
       "0      0.939902  0.933349  0.940145  0.240089  0.742557  ...   9555.348000   \n",
       "1      0.947139  0.956537  0.954305  0.378152  0.053620  ...    -32.166813   \n",
       "2      0.971168  0.975648  0.982716  0.261825  0.348544  ...    930.292700   \n",
       "3      0.759111  0.413124  0.000000  0.000000 -0.000000  ...      0.000000   \n",
       "4      0.978518  0.975219  0.989922  0.400065  0.328410  ...    716.887100   \n",
       "...         ...       ...       ...       ...       ...  ...           ...   \n",
       "39995  0.751563  0.481971  0.049648  0.222836  0.182798  ...   1919.307000   \n",
       "39996  0.553298  0.772175  0.485771  0.300058 -0.134290  ...  12320.759000   \n",
       "39997  0.749204  0.798801  0.289237  0.297742 -0.078994  ...   3829.177200   \n",
       "39998  0.855929  0.755831  0.303872  0.201922 -0.044859  ...      0.000000   \n",
       "39999  0.805930  0.838096  0.653794  0.124278 -0.238751  ...    863.303960   \n",
       "\n",
       "       pX_E7x11_Lr1  pX_E7x11_Lr2  pX_E7x11_Lr3   pX_E7x7_Lr0  pX_E7x7_Lr1  \\\n",
       "0        12439.4170     30005.940     30.267273   9555.348000   12439.4170   \n",
       "1         7150.0110     11357.543    223.495700    -32.166813    7150.0110   \n",
       "2        13870.4400     37771.043    235.996550    930.292700   13870.4400   \n",
       "3        30461.0350    101239.040  17743.662000      0.000000   30461.0350   \n",
       "4        16007.3790     25491.777    280.913300    716.887100   16007.3790   \n",
       "...             ...           ...           ...           ...          ...   \n",
       "39995     5069.9614     12153.055   1186.884900   2981.303000    3690.7695   \n",
       "39996     9364.2210     18286.041   3545.511200  12481.400000   10613.4300   \n",
       "39997    10531.5870     22682.910    922.046450   4448.633300    8834.5300   \n",
       "39998    29014.9770     87093.380   2459.278600      0.000000   28916.5590   \n",
       "39999     3031.3777     16774.076   2193.870400    649.625800    2132.7990   \n",
       "\n",
       "       p_pt_track     p_eta     p_phi  p_charge  \n",
       "0      27331.0250 -1.356775  2.437287       1.0  \n",
       "1      14839.9460  0.758425  0.424543       1.0  \n",
       "2      47934.7800  0.451583  1.543324       1.0  \n",
       "3       1547.0653  2.386935 -2.541257      -1.0  \n",
       "4      38393.7200 -0.595902  2.444494       1.0  \n",
       "...           ...       ...       ...       ...  \n",
       "39995  13794.3930 -0.908004 -2.500148      -1.0  \n",
       "39996  24288.5330  1.532268  1.387485      -1.0  \n",
       "39997  46904.3700  0.871931  0.338847      -1.0  \n",
       "39998  14215.0450  1.921771 -0.448903       1.0  \n",
       "39999  24046.2910 -0.027573  2.514383       1.0  \n",
       "\n",
       "[40000 rows x 140 columns]"
      ]
     },
     "execution_count": 15,
     "metadata": {},
     "output_type": "execute_result"
    }
   ],
   "source": [
    "testDf_regs"
   ]
  },
  {
   "cell_type": "code",
   "execution_count": 77,
   "metadata": {},
   "outputs": [],
   "source": [
    "def compare(test, train):\n",
    "    setTest = set(test.columns)\n",
    "    setTrain = set(train.columns)\n",
    "    tags = setTrain - setTest\n",
    "    return tags"
   ]
  },
  {
   "cell_type": "code",
   "execution_count": 78,
   "metadata": {},
   "outputs": [
    {
     "name": "stdout",
     "output_type": "stream",
     "text": [
      "{'p_truth_eta', 'p_Truth_Energy', 'p_truth_phi', 'p_truth_parent_pdgId', 'p_truth_pt', 'p_truth_pdgId', 'p_Truth_isElectron'}\n",
      "{'p_truth_eta', 'p_Truth_Energy', 'p_truth_phi', 'p_truth_parent_pdgId', 'p_truth_pt', 'p_truth_pdgId', 'p_Truth_isElectron'}\n",
      "{'p_truth_eta', 'p_Truth_Energy', 'p_truth_phi', 'p_truth_parent_pdgId', 'p_truth_pt', 'p_truth_pdgId', 'p_Truth_isElectron'}\n"
     ]
    }
   ],
   "source": [
    "print(compare(testDf_clsf, trainDf))\n",
    "print(compare(testDf_regs, trainDf))\n",
    "print(compare(testDf_clst, trainDf))"
   ]
  },
  {
   "cell_type": "markdown",
   "metadata": {},
   "source": [
    "* `FNNClassifier` builds a TensorFlow feedforward neural network classifier\n",
    "* `CNNClassifier` builds a TensorFlow convolution neural network classifier\n",
    "* `GNNClassifier` builds a TensorFlow graph neural network classifier\n",
    "* it can be used as other sklearn classifiers or xgboost having these public functions(methods)\n",
    "  * `fit`\n",
    "  * `predict`"
   ]
  },
  {
   "cell_type": "code",
   "execution_count": 87,
   "metadata": {},
   "outputs": [],
   "source": [
    "class FNNClassifier(BaseEstimator, ClassifierMixin):\n",
    "    def __init__(self, num_classes, epochs=50):\n",
    "        self.input_dim = None  # Will be set based on input data\n",
    "        self.num_classes = num_classes\n",
    "        self.epochs = epochs\n",
    "        self.model = None\n",
    "\n",
    "    def fit(self, X, y):\n",
    "        if self.model is None:\n",
    "            self.input_dim = X.shape[1]\n",
    "            self.model = tf.keras.models.Sequential([\n",
    "                tf.keras.layers.Dense(128, activation='relu', input_shape=(self.input_dim,)),\n",
    "                tf.keras.layers.Dense(64, activation='relu'),\n",
    "                tf.keras.layers.Dense(self.num_classes, activation='softmax')\n",
    "            ])\n",
    "            self.model.compile(optimizer='adam',\n",
    "                               loss='sparse_categorical_crossentropy',\n",
    "                               metrics=['accuracy'])\n",
    "        self.model.fit(X, y, epochs=self.epochs, verbose=0)\n",
    "        return self\n",
    "\n",
    "    def predict(self, X):\n",
    "        return self.model.predict(X).argmax(axis=1)"
   ]
  },
  {
   "cell_type": "code",
   "execution_count": 98,
   "metadata": {},
   "outputs": [],
   "source": [
    "class CNNClassifier(BaseEstimator, ClassifierMixin):\n",
    "    def __init__(self, num_classes, input_shape, epochs=50):\n",
    "        self.input_shape = input_shape\n",
    "        self.num_classes = num_classes\n",
    "        self.epochs = epochs\n",
    "        self.model = None\n",
    "\n",
    "    def fit(self, X, y):\n",
    "        if self.model is None:\n",
    "            self.model = Sequential([\n",
    "                Conv2D(32, (3, 3), activation='relu', input_shape=self.input_shape),\n",
    "                MaxPooling2D((2, 2)),\n",
    "                Conv2D(64, (3, 3), activation='relu'),\n",
    "                MaxPooling2D((2, 2)),  # Ensure dimensions are sufficient after this layer\n",
    "                Flatten(),\n",
    "                Dense(128, activation='relu'),\n",
    "                Dense(self.num_classes, activation='softmax')\n",
    "            ])\n",
    "            self.model.compile(optimizer='adam',\n",
    "                               loss='sparse_categorical_crossentropy',\n",
    "                               metrics=['accuracy'])\n",
    "        self.model.fit(X, y, epochs=self.epochs, verbose=0)\n",
    "        return self\n"
   ]
  },
  {
   "cell_type": "code",
   "execution_count": 101,
   "metadata": {},
   "outputs": [],
   "source": [
    "class CNNClassifier(BaseEstimator, ClassifierMixin):\n",
    "    def __init__(self, num_classes, input_shape, epochs=50):\n",
    "        self.input_shape = input_shape\n",
    "        self.num_classes = num_classes\n",
    "        self.epochs = epochs\n",
    "        self.model = None\n",
    "\n",
    "    def fit(self, X, y):\n",
    "        if self.model is None:\n",
    "            self.model = Sequential([\n",
    "                Conv2D(32, (3, 3), activation='relu', padding='same', input_shape=self.input_shape),\n",
    "                MaxPooling2D((2, 2), padding='same'),\n",
    "                Conv2D(64, (2, 2), activation='relu', padding='same'),\n",
    "                MaxPooling2D((2, 1), padding='same'),\n",
    "                Flatten(),\n",
    "                Dense(128, activation='relu'),\n",
    "                Dense(self.num_classes, activation='softmax')\n",
    "            ])\n",
    "            self.model.compile(optimizer='adam',\n",
    "                               loss='sparse_categorical_crossentropy',\n",
    "                               metrics=['accuracy'])\n",
    "        self.model.fit(X, y, epochs=self.epochs, verbose=0)\n",
    "        return self\n"
   ]
  },
  {
   "cell_type": "code",
   "execution_count": 105,
   "metadata": {},
   "outputs": [
    {
     "data": {
      "text/plain": [
       "dict_keys(['LogisticRegression', 'RandomForest', 'AdaBoost', 'GradientBoosting', 'XGBoost', 'FNN', 'CNN', 'GNN'])"
      ]
     },
     "execution_count": 105,
     "metadata": {},
     "output_type": "execute_result"
    }
   ],
   "source": [
    "classifiers = {\n",
    "    'LogisticRegression': LogisticRegression(max_iter=1000, C=0.5, solver='lbfgs'),\n",
    "    'RandomForest': RandomForestClassifier(n_estimators=100, max_depth=10, max_features='sqrt'),\n",
    "    'AdaBoost': AdaBoostClassifier(n_estimators=50, learning_rate=1.0),\n",
    "    'GradientBoosting': GradientBoostingClassifier(n_estimators=100, learning_rate=0.1, max_depth=3),\n",
    "    'XGBoost': xgb.XGBClassifier(use_label_encoder=False, n_estimators=100, learning_rate=0.1, max_depth=3, objective='binary:logistic'),\n",
    "    'FNN': FNNClassifier(num_classes=2, epochs=50),\n",
    "    'CNN': CNNClassifier(num_classes=2, input_shape=(8, 8, 1), epochs=50),\n",
    "    'GNN': GNNClassifier(num_classes=2, channels=16, epochs=50, dropout_rate=0.5)\n",
    "}\n",
    "classifiers.keys()"
   ]
  },
  {
   "cell_type": "code",
   "execution_count": 18,
   "metadata": {},
   "outputs": [],
   "source": [
    "features = [\"averageInteractionsPerCrossing\",\n",
    "            \"p_Rhad1\",\n",
    "            \"p_Rhad\",\n",
    "            \"p_f3\",\n",
    "            \"p_weta2\",\n",
    "            \"p_Rphi\",\n",
    "            \"p_Reta\",\n",
    "            \"p_Eratio\",\n",
    "            \"p_f1\",\n",
    "            \"p_TRTPID\",\n",
    "            \"p_numberOfInnermostPixelHits\",\n",
    "            \"p_numberOfPixelHits\",\n",
    "            \"p_numberOfSCTHits\",\n",
    "            \"p_numberOfTRTHits\",\n",
    "            \"p_TRTTrackOccupancy\",\n",
    "            \"p_numberOfTRTXenonHits\",\n",
    "            \"p_z0\",\n",
    "            \"p_d0\",\n",
    "            \"p_sigmad0\",\n",
    "            \"p_dPOverP\",\n",
    "            \"p_deltaEta1\",\n",
    "            \"p_deltaPhiRescaled2\",\n",
    "            \"p_etcone20\",\n",
    "            \"p_etcone30\",\n",
    "            \"p_etcone40\",\n",
    "            \"p_ptcone20\",\n",
    "            \"p_ptcone30\",\n",
    "            \"p_ptcone40\",\n",
    "            \"p_ptPU30\",\n",
    "            \"p_vertex\",\n",
    "            \"pX_E7x7_Lr2\",\n",
    "            \"pX_E7x7_Lr3\",\n",
    "            \"pX_E_Lr0_HiG\",\n",
    "            \"pX_E_Lr0_MedG\",\n",
    "            \"pX_E_Lr1_HiG\",\n",
    "            \"pX_E_Lr1_LowG\",\n",
    "            \"pX_E_Lr1_MedG\",\n",
    "            \"pX_E_Lr2_HiG\",\n",
    "            \"pX_E_Lr2_LowG\",\n",
    "            \"pX_E_Lr2_MedG\",\n",
    "            \"pX_E_Lr3_HiG\",\n",
    "            \"pX_E_Lr3_MedG\",\n",
    "            \"pX_MultiLepton\",\n",
    "            \"pX_OQ\",\n",
    "            \"pX_ambiguityType\",\n",
    "            \"pX_asy1\",\n",
    "            \"pX_author\",\n",
    "            \"pX_barys1\",\n",
    "            \"pX_core57cellsEnergyCorrection\",\n",
    "            \"pX_deltaEta0\",\n",
    "            \"pX_deltaEta1\",\n",
    "            \"pX_deltaEta2\",\n",
    "            \"pX_deltaEta3\",\n",
    "            \"pX_deltaPhi0\",\n",
    "            \"pX_deltaPhi1\",\n",
    "            \"pX_deltaPhi2\",\n",
    "            \"pX_deltaPhi3\",\n",
    "            \"pX_deltaPhiFromLastMeasurement\",\n",
    "            \"pX_deltaPhiRescaled0\",\n",
    "            \"pX_deltaPhiRescaled1\",\n",
    "            \"pX_deltaPhiRescaled3\",\n",
    "            \"pX_e1152\",\n",
    "            \"pX_e132\",\n",
    "            \"pX_e235\",\n",
    "            \"pX_e255\",\n",
    "            \"pX_e2ts1\",\n",
    "            \"pX_ecore\",\n",
    "            \"pX_emins1\",\n",
    "            \"pX_etcone20\",\n",
    "            \"pX_etcone30\",\n",
    "            \"pX_etcone40\",\n",
    "            \"pX_f1core\",\n",
    "            \"pX_f3core\",\n",
    "            \"pX_maxEcell_energy\",\n",
    "            \"pX_maxEcell_gain\",\n",
    "            \"pX_maxEcell_time\",\n",
    "            \"pX_maxEcell_x\",\n",
    "            \"pX_maxEcell_y\",\n",
    "            \"pX_maxEcell_z\",\n",
    "            \"pX_nCells_Lr0_HiG\",\n",
    "            \"pX_nCells_Lr0_MedG\",\n",
    "            \"pX_nCells_Lr1_HiG\",\n",
    "            \"pX_nCells_Lr1_LowG\",\n",
    "            \"pX_nCells_Lr1_MedG\",\n",
    "            \"pX_nCells_Lr2_HiG\",\n",
    "            \"pX_nCells_Lr2_LowG\",\n",
    "            \"pX_nCells_Lr2_MedG\",\n",
    "            \"pX_nCells_Lr3_HiG\",\n",
    "            \"pX_nCells_Lr3_MedG\",\n",
    "            \"pX_neflowisol20\",\n",
    "            \"pX_neflowisol30\",\n",
    "            \"pX_neflowisol40\",\n",
    "            \"pX_neflowisolcoreConeEnergyCorrection\",\n",
    "            \"pX_pos\",\n",
    "            \"pX_pos7\",\n",
    "            \"pX_poscs1\",\n",
    "            \"pX_poscs2\",\n",
    "            \"pX_ptcone20\",\n",
    "            \"pX_ptcone30\",\n",
    "            \"pX_ptcone40\",\n",
    "            \"pX_ptconecoreTrackPtrCorrection\",\n",
    "            \"pX_ptvarcone20\",\n",
    "            \"pX_ptvarcone30\",\n",
    "            \"pX_ptvarcone40\",\n",
    "            \"pX_r33over37allcalo\",\n",
    "            \"pX_topoetcone20\",\n",
    "            \"pX_topoetcone20ptCorrection\",\n",
    "            \"pX_topoetcone30\",\n",
    "            \"pX_topoetcone30ptCorrection\",\n",
    "            \"pX_topoetcone40\",\n",
    "            \"pX_topoetcone40ptCorrection\",\n",
    "            \"pX_topoetconecoreConeEnergyCorrection\",\n",
    "            \"pX_weta1\",\n",
    "            \"pX_widths1\",\n",
    "            \"pX_wtots1\",\n",
    "            \"pX_e233\",\n",
    "            \"pX_e237\",\n",
    "            \"pX_e2tsts1\",\n",
    "            \"pX_ehad1\",\n",
    "            \"pX_emaxs1\",\n",
    "            \"pX_fracs1\",\n",
    "            \"pX_DeltaE\",\n",
    "            \"pX_E3x5_Lr0\",\n",
    "            \"pX_E3x5_Lr1\",\n",
    "            \"pX_E3x5_Lr2\",\n",
    "            \"pX_E3x5_Lr3\",\n",
    "            \"pX_E5x7_Lr0\",\n",
    "            \"pX_E5x7_Lr1\",\n",
    "            \"pX_E5x7_Lr2\",\n",
    "            \"pX_E5x7_Lr3\",\n",
    "            \"pX_E7x11_Lr0\",\n",
    "            \"pX_E7x11_Lr1\",\n",
    "            \"pX_E7x11_Lr2\",\n",
    "            \"pX_E7x11_Lr3\",\n",
    "            \"pX_E7x7_Lr0\",\n",
    "            \"pX_E7x7_Lr1\",\n",
    "            \"p_pt_track\",\n",
    "            \"p_eta\",\n",
    "            \"p_phi\",\n",
    "            \"p_charge\",]"
   ]
  },
  {
   "cell_type": "markdown",
   "metadata": {},
   "source": [
    "* `getCM`: Calculates the confusion matrix, accuracy, and fraction of wrong predictions.\n",
    "  * `predictions`: Array of predicted labels\n",
    "  * `true_labels`: Array of true labels\n",
    "  * returns Tuple containing the confusion matrix, accuracy, and fraction of wrong predictions"
   ]
  },
  {
   "cell_type": "code",
   "execution_count": 19,
   "metadata": {},
   "outputs": [],
   "source": [
    "def getCM(predictions, true_labels):\n",
    "    # Initialize the confusion matrix\n",
    "    N = np.zeros((2, 2), dtype=int)\n",
    "    \n",
    "    # Loop through all predictions and true labels to populate the confusion matrix\n",
    "    for i in range(len(predictions)):\n",
    "        # Increase the corresponding count in the confusion matrix\n",
    "        N[true_labels[i]][predictions[i]] += 1\n",
    "\n",
    "    # Calculate the fraction of wrong predictions\n",
    "    fracWrong = float(N[0][1] + N[1][0]) / float(len(true_labels))\n",
    "    \n",
    "    # Calculate the accuracy\n",
    "    accuracy = 1.0 - fracWrong\n",
    "    \n",
    "    return N, accuracy, fracWrong"
   ]
  },
  {
   "cell_type": "code",
   "execution_count": 20,
   "metadata": {},
   "outputs": [],
   "source": [
    "def getConfusionMatrix(predictions, true_labels):\n",
    "    return confusion_matrix(true_labels, predictions)"
   ]
  },
  {
   "cell_type": "code",
   "execution_count": 21,
   "metadata": {},
   "outputs": [],
   "source": [
    "def showCM(predictions, true_labels):\n",
    "    N, accuracy, fracWrong = getCM(predictions, true_labels)\n",
    "    print(\"\\nRESULT OF HUMAN ATTEMPT AT A GOOD SELECTION:\")\n",
    "    print(\"  First number in parenthesis is the estimate, second is the MC truth:\")\n",
    "    print(\"  True-Negative (0,0)  = \", N[0][0])\n",
    "    print(\"  False-Negative (0,1) = \", N[0][1])\n",
    "    print(\"  False-Positive (1,0) = \", N[1][0])\n",
    "    print(\"  True-Positive (1,1)  = \", N[1][1])\n",
    "    print(\"    Fraction wrong            = ( (0,1) + (1,0) ) / sum = \", fracWrong)\n",
    "    print(\"    Fraction right (accuracy) = ( (0,0) + (1,1) ) / sum = \", accuracy)"
   ]
  },
  {
   "cell_type": "code",
   "execution_count": 22,
   "metadata": {},
   "outputs": [],
   "source": [
    "def saveToCsv(predictions, filename):\n",
    "    df = pd.DataFrame(predictions)\n",
    "    df.to_csv(filename, index=False)"
   ]
  },
  {
   "cell_type": "code",
   "execution_count": 95,
   "metadata": {},
   "outputs": [],
   "source": [
    "def getClsfFeaturesKernel(trainDf, classifier, Nfeatures=20):\n",
    "    X_train = trainDf.drop('p_Truth_isElectron', axis=1)\n",
    "    y_train = trainDf['p_Truth_isElectron']\n",
    "    classifier.fit(X_train, y_train)\n",
    "\n",
    "    # Tree Explainer for XGB\n",
    "    if classifier == classifiers['XGBoost']:\n",
    "        explainer = shap.TreeExplainer(classifier)\n",
    "    else:\n",
    "        explainer = shap.KernelExplainer(classifier.predict, shap.sample(X_train, 100))  # Using a sample for approximation\n",
    "\n",
    "    shap_values = explainer.shap_values(shap.sample(X_train, 100))  # Again, using a sample for practicality\n",
    "\n",
    "    # Calculate the mean absolute SHAP values for each feature\n",
    "    shap_summaries = np.abs(shap_values).mean(axis=0)\n",
    "\n",
    "    # Sort the features by their mean absolute SHAP value in descending order\n",
    "    indices = np.argsort(shap_summaries)[::-1]\n",
    "\n",
    "    top_features = X_train.columns[indices[:Nfeatures]].tolist()\n",
    "\n",
    "    return top_features"
   ]
  },
  {
   "cell_type": "code",
   "execution_count": 27,
   "metadata": {},
   "outputs": [],
   "source": [
    "# print(getClsfFeatures(trainDf, classifiers['AdaBoost'], Nfeatures=20))\n",
    "# 5 min 40 sec"
   ]
  },
  {
   "cell_type": "code",
   "execution_count": 24,
   "metadata": {},
   "outputs": [],
   "source": [
    "def makeVariableCsv(features, filename):\n",
    "    df = pd.DataFrame(features)\n",
    "    df.to_csv(filename, index=False, header=False)"
   ]
  },
  {
   "cell_type": "code",
   "execution_count": 35,
   "metadata": {},
   "outputs": [
    {
     "name": "stderr",
     "output_type": "stream",
     "text": [
      "c:\\Users\\yhjo7\\AppData\\Local\\Programs\\Python\\Python39\\lib\\site-packages\\sklearn\\linear_model\\_logistic.py:469: ConvergenceWarning: lbfgs failed to converge (status=1):\n",
      "STOP: TOTAL NO. of ITERATIONS REACHED LIMIT.\n",
      "\n",
      "Increase the number of iterations (max_iter) or scale the data as shown in:\n",
      "    https://scikit-learn.org/stable/modules/preprocessing.html\n",
      "Please also refer to the documentation for alternative solver options:\n",
      "    https://scikit-learn.org/stable/modules/linear_model.html#logistic-regression\n",
      "  n_iter_i = _check_optimize_result(\n",
      "100%|██████████| 100/100 [01:05<00:00,  1.52it/s]\n"
     ]
    }
   ],
   "source": [
    "# features_LR = getClsfFeaturesKernel(trainDf, classifiers['LogisticRegression'], Nfeatures=20)\n",
    "# 1 min 30 sec"
   ]
  },
  {
   "cell_type": "code",
   "execution_count": 32,
   "metadata": {},
   "outputs": [
    {
     "name": "stderr",
     "output_type": "stream",
     "text": [
      "100%|██████████| 100/100 [02:54<00:00,  1.74s/it]\n"
     ]
    }
   ],
   "source": [
    "# features_RF = getClsfFeaturesKernel(trainDf, classifiers['RandomForest'], Nfeatures=20)\n",
    "#  4 m 30 s"
   ]
  },
  {
   "cell_type": "code",
   "execution_count": 37,
   "metadata": {},
   "outputs": [
    {
     "name": "stderr",
     "output_type": "stream",
     "text": [
      "c:\\Users\\yhjo7\\AppData\\Local\\Programs\\Python\\Python39\\lib\\site-packages\\sklearn\\ensemble\\_weight_boosting.py:519: FutureWarning: The SAMME.R algorithm (the default) is deprecated and will be removed in 1.6. Use the SAMME algorithm to circumvent this warning.\n",
      "  warnings.warn(\n",
      "100%|██████████| 100/100 [08:04<00:00,  4.84s/it]\n"
     ]
    }
   ],
   "source": [
    "# features_AB = getClsfFeaturesKernel(trainDf, classifiers['AdaBoost'], Nfeatures=20)\n",
    "# 7 m 50 s"
   ]
  },
  {
   "cell_type": "code",
   "execution_count": 39,
   "metadata": {},
   "outputs": [
    {
     "name": "stderr",
     "output_type": "stream",
     "text": [
      "100%|██████████| 100/100 [03:01<00:00,  1.81s/it]\n"
     ]
    }
   ],
   "source": [
    "# features_GB = getClsfFeaturesKernel(trainDf, classifiers['GradientBoosting'], Nfeatures=20)\n",
    "# 3 min"
   ]
  },
  {
   "cell_type": "code",
   "execution_count": 35,
   "metadata": {},
   "outputs": [],
   "source": [
    "# features_XGB = getClsfFeaturesKernel(trainDf, classifiers['XGBoost'], Nfeatures=20)\n",
    "# TreeExplainer : 10 sec"
   ]
  },
  {
   "cell_type": "code",
   "execution_count": 41,
   "metadata": {},
   "outputs": [
    {
     "name": "stdout",
     "output_type": "stream",
     "text": [
      "4/4 [==============================] - 0s 5ms/step\n"
     ]
    },
    {
     "data": {
      "application/vnd.jupyter.widget-view+json": {
       "model_id": "ee29429557cc40b4b8fae1fc7e6a1c24",
       "version_major": 2,
       "version_minor": 0
      },
      "text/plain": [
       "  0%|          | 0/100 [00:00<?, ?it/s]"
      ]
     },
     "metadata": {},
     "output_type": "display_data"
    },
    {
     "name": "stdout",
     "output_type": "stream",
     "text": [
      "1/1 [==============================] - 0s 34ms/step\n",
      "7263/7263 [==============================] - 14s 2ms/step\n"
     ]
    },
    {
     "name": "stderr",
     "output_type": "stream",
     "text": [
      "/usr/local/lib/python3.9/site-packages/sklearn/linear_model/_least_angle.py:2293: RuntimeWarning: divide by zero encountered in log\n",
      "  n_samples * np.log(2 * np.pi * self.noise_variance_)\n",
      "/usr/local/lib/python3.9/site-packages/sklearn/linear_model/_least_angle.py:2294: RuntimeWarning: invalid value encountered in divide\n",
      "  + residuals_sum_squares / self.noise_variance_\n"
     ]
    },
    {
     "name": "stdout",
     "output_type": "stream",
     "text": [
      "1/1 [==============================] - 0s 65ms/step\n",
      "7263/7263 [==============================] - 18s 2ms/step\n"
     ]
    },
    {
     "name": "stderr",
     "output_type": "stream",
     "text": [
      "/usr/local/lib/python3.9/site-packages/sklearn/linear_model/_least_angle.py:2293: RuntimeWarning: divide by zero encountered in log\n",
      "  n_samples * np.log(2 * np.pi * self.noise_variance_)\n",
      "/usr/local/lib/python3.9/site-packages/sklearn/linear_model/_least_angle.py:2294: RuntimeWarning: invalid value encountered in divide\n",
      "  + residuals_sum_squares / self.noise_variance_\n"
     ]
    },
    {
     "name": "stdout",
     "output_type": "stream",
     "text": [
      "1/1 [==============================] - 0s 39ms/step\n",
      "7263/7263 [==============================] - 16s 2ms/step\n"
     ]
    },
    {
     "name": "stderr",
     "output_type": "stream",
     "text": [
      "/usr/local/lib/python3.9/site-packages/sklearn/linear_model/_least_angle.py:2293: RuntimeWarning: divide by zero encountered in log\n",
      "  n_samples * np.log(2 * np.pi * self.noise_variance_)\n",
      "/usr/local/lib/python3.9/site-packages/sklearn/linear_model/_least_angle.py:2294: RuntimeWarning: invalid value encountered in divide\n",
      "  + residuals_sum_squares / self.noise_variance_\n"
     ]
    },
    {
     "name": "stdout",
     "output_type": "stream",
     "text": [
      "1/1 [==============================] - 0s 46ms/step\n",
      "7263/7263 [==============================] - 19s 3ms/step\n"
     ]
    },
    {
     "name": "stderr",
     "output_type": "stream",
     "text": [
      "/usr/local/lib/python3.9/site-packages/sklearn/linear_model/_least_angle.py:2293: RuntimeWarning: divide by zero encountered in log\n",
      "  n_samples * np.log(2 * np.pi * self.noise_variance_)\n",
      "/usr/local/lib/python3.9/site-packages/sklearn/linear_model/_least_angle.py:2294: RuntimeWarning: invalid value encountered in divide\n",
      "  + residuals_sum_squares / self.noise_variance_\n"
     ]
    },
    {
     "name": "stdout",
     "output_type": "stream",
     "text": [
      "1/1 [==============================] - 0s 35ms/step\n",
      "7263/7263 [==============================] - 17s 2ms/step\n"
     ]
    },
    {
     "name": "stderr",
     "output_type": "stream",
     "text": [
      "/usr/local/lib/python3.9/site-packages/sklearn/linear_model/_least_angle.py:2293: RuntimeWarning: divide by zero encountered in log\n",
      "  n_samples * np.log(2 * np.pi * self.noise_variance_)\n",
      "/usr/local/lib/python3.9/site-packages/sklearn/linear_model/_least_angle.py:2294: RuntimeWarning: invalid value encountered in divide\n",
      "  + residuals_sum_squares / self.noise_variance_\n"
     ]
    },
    {
     "name": "stdout",
     "output_type": "stream",
     "text": [
      "1/1 [==============================] - 0s 105ms/step\n",
      "7263/7263 [==============================] - 17s 2ms/step\n"
     ]
    },
    {
     "name": "stderr",
     "output_type": "stream",
     "text": [
      "/usr/local/lib/python3.9/site-packages/sklearn/linear_model/_least_angle.py:2293: RuntimeWarning: divide by zero encountered in log\n",
      "  n_samples * np.log(2 * np.pi * self.noise_variance_)\n",
      "/usr/local/lib/python3.9/site-packages/sklearn/linear_model/_least_angle.py:2294: RuntimeWarning: invalid value encountered in divide\n",
      "  + residuals_sum_squares / self.noise_variance_\n"
     ]
    },
    {
     "name": "stdout",
     "output_type": "stream",
     "text": [
      "1/1 [==============================] - 0s 36ms/step\n",
      "7263/7263 [==============================] - 12s 2ms/step\n"
     ]
    },
    {
     "name": "stderr",
     "output_type": "stream",
     "text": [
      "/usr/local/lib/python3.9/site-packages/sklearn/linear_model/_least_angle.py:2293: RuntimeWarning: divide by zero encountered in log\n",
      "  n_samples * np.log(2 * np.pi * self.noise_variance_)\n",
      "/usr/local/lib/python3.9/site-packages/sklearn/linear_model/_least_angle.py:2294: RuntimeWarning: invalid value encountered in divide\n",
      "  + residuals_sum_squares / self.noise_variance_\n"
     ]
    },
    {
     "name": "stdout",
     "output_type": "stream",
     "text": [
      "1/1 [==============================] - 0s 48ms/step\n",
      "7263/7263 [==============================] - 14s 2ms/step\n"
     ]
    },
    {
     "name": "stderr",
     "output_type": "stream",
     "text": [
      "/usr/local/lib/python3.9/site-packages/sklearn/linear_model/_least_angle.py:2293: RuntimeWarning: divide by zero encountered in log\n",
      "  n_samples * np.log(2 * np.pi * self.noise_variance_)\n",
      "/usr/local/lib/python3.9/site-packages/sklearn/linear_model/_least_angle.py:2294: RuntimeWarning: invalid value encountered in divide\n",
      "  + residuals_sum_squares / self.noise_variance_\n"
     ]
    },
    {
     "name": "stdout",
     "output_type": "stream",
     "text": [
      "1/1 [==============================] - 0s 43ms/step\n",
      "7263/7263 [==============================] - 14s 2ms/step\n"
     ]
    },
    {
     "name": "stderr",
     "output_type": "stream",
     "text": [
      "/usr/local/lib/python3.9/site-packages/sklearn/linear_model/_least_angle.py:2293: RuntimeWarning: divide by zero encountered in log\n",
      "  n_samples * np.log(2 * np.pi * self.noise_variance_)\n",
      "/usr/local/lib/python3.9/site-packages/sklearn/linear_model/_least_angle.py:2294: RuntimeWarning: invalid value encountered in divide\n",
      "  + residuals_sum_squares / self.noise_variance_\n"
     ]
    },
    {
     "name": "stdout",
     "output_type": "stream",
     "text": [
      "1/1 [==============================] - 0s 35ms/step\n",
      "7263/7263 [==============================] - 27s 4ms/step\n"
     ]
    },
    {
     "name": "stderr",
     "output_type": "stream",
     "text": [
      "/usr/local/lib/python3.9/site-packages/sklearn/linear_model/_least_angle.py:2293: RuntimeWarning: divide by zero encountered in log\n",
      "  n_samples * np.log(2 * np.pi * self.noise_variance_)\n",
      "/usr/local/lib/python3.9/site-packages/sklearn/linear_model/_least_angle.py:2294: RuntimeWarning: invalid value encountered in divide\n",
      "  + residuals_sum_squares / self.noise_variance_\n"
     ]
    },
    {
     "name": "stdout",
     "output_type": "stream",
     "text": [
      "1/1 [==============================] - 0s 95ms/step\n",
      "7263/7263 [==============================] - 20s 3ms/step\n"
     ]
    },
    {
     "name": "stderr",
     "output_type": "stream",
     "text": [
      "/usr/local/lib/python3.9/site-packages/sklearn/linear_model/_least_angle.py:2293: RuntimeWarning: divide by zero encountered in log\n",
      "  n_samples * np.log(2 * np.pi * self.noise_variance_)\n",
      "/usr/local/lib/python3.9/site-packages/sklearn/linear_model/_least_angle.py:2294: RuntimeWarning: invalid value encountered in divide\n",
      "  + residuals_sum_squares / self.noise_variance_\n"
     ]
    },
    {
     "name": "stdout",
     "output_type": "stream",
     "text": [
      "1/1 [==============================] - 0s 44ms/step\n",
      "7263/7263 [==============================] - 19s 3ms/step\n"
     ]
    },
    {
     "name": "stderr",
     "output_type": "stream",
     "text": [
      "/usr/local/lib/python3.9/site-packages/sklearn/linear_model/_least_angle.py:2293: RuntimeWarning: divide by zero encountered in log\n",
      "  n_samples * np.log(2 * np.pi * self.noise_variance_)\n",
      "/usr/local/lib/python3.9/site-packages/sklearn/linear_model/_least_angle.py:2294: RuntimeWarning: invalid value encountered in divide\n",
      "  + residuals_sum_squares / self.noise_variance_\n"
     ]
    },
    {
     "name": "stdout",
     "output_type": "stream",
     "text": [
      "1/1 [==============================] - 0s 131ms/step\n",
      "7263/7263 [==============================] - 30s 4ms/step\n"
     ]
    },
    {
     "name": "stderr",
     "output_type": "stream",
     "text": [
      "/usr/local/lib/python3.9/site-packages/sklearn/linear_model/_least_angle.py:2293: RuntimeWarning: divide by zero encountered in log\n",
      "  n_samples * np.log(2 * np.pi * self.noise_variance_)\n",
      "/usr/local/lib/python3.9/site-packages/sklearn/linear_model/_least_angle.py:2294: RuntimeWarning: invalid value encountered in divide\n",
      "  + residuals_sum_squares / self.noise_variance_\n"
     ]
    },
    {
     "name": "stdout",
     "output_type": "stream",
     "text": [
      "1/1 [==============================] - 0s 30ms/step\n",
      "7263/7263 [==============================] - 23s 3ms/step\n"
     ]
    },
    {
     "name": "stderr",
     "output_type": "stream",
     "text": [
      "/usr/local/lib/python3.9/site-packages/sklearn/linear_model/_least_angle.py:2293: RuntimeWarning: divide by zero encountered in log\n",
      "  n_samples * np.log(2 * np.pi * self.noise_variance_)\n",
      "/usr/local/lib/python3.9/site-packages/sklearn/linear_model/_least_angle.py:2294: RuntimeWarning: invalid value encountered in divide\n",
      "  + residuals_sum_squares / self.noise_variance_\n"
     ]
    },
    {
     "name": "stdout",
     "output_type": "stream",
     "text": [
      "1/1 [==============================] - 0s 41ms/step\n",
      "7263/7263 [==============================] - 17s 2ms/step\n"
     ]
    },
    {
     "name": "stderr",
     "output_type": "stream",
     "text": [
      "/usr/local/lib/python3.9/site-packages/sklearn/linear_model/_least_angle.py:2293: RuntimeWarning: divide by zero encountered in log\n",
      "  n_samples * np.log(2 * np.pi * self.noise_variance_)\n",
      "/usr/local/lib/python3.9/site-packages/sklearn/linear_model/_least_angle.py:2294: RuntimeWarning: invalid value encountered in divide\n",
      "  + residuals_sum_squares / self.noise_variance_\n"
     ]
    },
    {
     "name": "stdout",
     "output_type": "stream",
     "text": [
      "1/1 [==============================] - 0s 31ms/step\n",
      "7263/7263 [==============================] - 20s 3ms/step\n"
     ]
    },
    {
     "name": "stderr",
     "output_type": "stream",
     "text": [
      "/usr/local/lib/python3.9/site-packages/sklearn/linear_model/_least_angle.py:2293: RuntimeWarning: divide by zero encountered in log\n",
      "  n_samples * np.log(2 * np.pi * self.noise_variance_)\n",
      "/usr/local/lib/python3.9/site-packages/sklearn/linear_model/_least_angle.py:2294: RuntimeWarning: invalid value encountered in divide\n",
      "  + residuals_sum_squares / self.noise_variance_\n"
     ]
    },
    {
     "name": "stdout",
     "output_type": "stream",
     "text": [
      "1/1 [==============================] - 0s 31ms/step\n",
      "7263/7263 [==============================] - 18s 2ms/step\n"
     ]
    },
    {
     "name": "stderr",
     "output_type": "stream",
     "text": [
      "/usr/local/lib/python3.9/site-packages/sklearn/linear_model/_least_angle.py:2293: RuntimeWarning: divide by zero encountered in log\n",
      "  n_samples * np.log(2 * np.pi * self.noise_variance_)\n",
      "/usr/local/lib/python3.9/site-packages/sklearn/linear_model/_least_angle.py:2294: RuntimeWarning: invalid value encountered in divide\n",
      "  + residuals_sum_squares / self.noise_variance_\n"
     ]
    },
    {
     "name": "stdout",
     "output_type": "stream",
     "text": [
      "1/1 [==============================] - 0s 33ms/step\n",
      "7263/7263 [==============================] - 16s 2ms/step\n"
     ]
    },
    {
     "name": "stderr",
     "output_type": "stream",
     "text": [
      "/usr/local/lib/python3.9/site-packages/sklearn/linear_model/_least_angle.py:2293: RuntimeWarning: divide by zero encountered in log\n",
      "  n_samples * np.log(2 * np.pi * self.noise_variance_)\n",
      "/usr/local/lib/python3.9/site-packages/sklearn/linear_model/_least_angle.py:2294: RuntimeWarning: invalid value encountered in divide\n",
      "  + residuals_sum_squares / self.noise_variance_\n"
     ]
    },
    {
     "name": "stdout",
     "output_type": "stream",
     "text": [
      "1/1 [==============================] - 0s 26ms/step\n",
      "7263/7263 [==============================] - 21s 3ms/step\n"
     ]
    },
    {
     "name": "stderr",
     "output_type": "stream",
     "text": [
      "/usr/local/lib/python3.9/site-packages/sklearn/linear_model/_least_angle.py:2293: RuntimeWarning: divide by zero encountered in log\n",
      "  n_samples * np.log(2 * np.pi * self.noise_variance_)\n",
      "/usr/local/lib/python3.9/site-packages/sklearn/linear_model/_least_angle.py:2294: RuntimeWarning: invalid value encountered in divide\n",
      "  + residuals_sum_squares / self.noise_variance_\n"
     ]
    },
    {
     "name": "stdout",
     "output_type": "stream",
     "text": [
      "1/1 [==============================] - 0s 25ms/step\n",
      "7263/7263 [==============================] - 19s 3ms/step\n"
     ]
    },
    {
     "name": "stderr",
     "output_type": "stream",
     "text": [
      "/usr/local/lib/python3.9/site-packages/sklearn/linear_model/_least_angle.py:2293: RuntimeWarning: divide by zero encountered in log\n",
      "  n_samples * np.log(2 * np.pi * self.noise_variance_)\n",
      "/usr/local/lib/python3.9/site-packages/sklearn/linear_model/_least_angle.py:2294: RuntimeWarning: invalid value encountered in divide\n",
      "  + residuals_sum_squares / self.noise_variance_\n"
     ]
    },
    {
     "name": "stdout",
     "output_type": "stream",
     "text": [
      "1/1 [==============================] - 0s 44ms/step\n",
      "7263/7263 [==============================] - 18s 2ms/step\n"
     ]
    },
    {
     "name": "stderr",
     "output_type": "stream",
     "text": [
      "/usr/local/lib/python3.9/site-packages/sklearn/linear_model/_least_angle.py:2293: RuntimeWarning: divide by zero encountered in log\n",
      "  n_samples * np.log(2 * np.pi * self.noise_variance_)\n",
      "/usr/local/lib/python3.9/site-packages/sklearn/linear_model/_least_angle.py:2294: RuntimeWarning: invalid value encountered in divide\n",
      "  + residuals_sum_squares / self.noise_variance_\n"
     ]
    },
    {
     "name": "stdout",
     "output_type": "stream",
     "text": [
      "1/1 [==============================] - 0s 49ms/step\n",
      "7263/7263 [==============================] - 20s 3ms/step\n"
     ]
    },
    {
     "name": "stderr",
     "output_type": "stream",
     "text": [
      "/usr/local/lib/python3.9/site-packages/sklearn/linear_model/_least_angle.py:2293: RuntimeWarning: divide by zero encountered in log\n",
      "  n_samples * np.log(2 * np.pi * self.noise_variance_)\n",
      "/usr/local/lib/python3.9/site-packages/sklearn/linear_model/_least_angle.py:2294: RuntimeWarning: invalid value encountered in divide\n",
      "  + residuals_sum_squares / self.noise_variance_\n"
     ]
    },
    {
     "name": "stdout",
     "output_type": "stream",
     "text": [
      "1/1 [==============================] - 0s 50ms/step\n",
      "7263/7263 [==============================] - 19s 3ms/step\n"
     ]
    },
    {
     "name": "stderr",
     "output_type": "stream",
     "text": [
      "/usr/local/lib/python3.9/site-packages/sklearn/linear_model/_least_angle.py:2293: RuntimeWarning: divide by zero encountered in log\n",
      "  n_samples * np.log(2 * np.pi * self.noise_variance_)\n",
      "/usr/local/lib/python3.9/site-packages/sklearn/linear_model/_least_angle.py:2294: RuntimeWarning: invalid value encountered in divide\n",
      "  + residuals_sum_squares / self.noise_variance_\n"
     ]
    },
    {
     "name": "stdout",
     "output_type": "stream",
     "text": [
      "1/1 [==============================] - 0s 51ms/step\n",
      "7263/7263 [==============================] - 17s 2ms/step\n"
     ]
    },
    {
     "name": "stderr",
     "output_type": "stream",
     "text": [
      "/usr/local/lib/python3.9/site-packages/sklearn/linear_model/_least_angle.py:2293: RuntimeWarning: divide by zero encountered in log\n",
      "  n_samples * np.log(2 * np.pi * self.noise_variance_)\n",
      "/usr/local/lib/python3.9/site-packages/sklearn/linear_model/_least_angle.py:2294: RuntimeWarning: invalid value encountered in divide\n",
      "  + residuals_sum_squares / self.noise_variance_\n"
     ]
    },
    {
     "name": "stdout",
     "output_type": "stream",
     "text": [
      "1/1 [==============================] - 0s 27ms/step\n",
      "7263/7263 [==============================] - 27s 4ms/step\n"
     ]
    },
    {
     "name": "stderr",
     "output_type": "stream",
     "text": [
      "/usr/local/lib/python3.9/site-packages/sklearn/linear_model/_least_angle.py:2293: RuntimeWarning: divide by zero encountered in log\n",
      "  n_samples * np.log(2 * np.pi * self.noise_variance_)\n",
      "/usr/local/lib/python3.9/site-packages/sklearn/linear_model/_least_angle.py:2294: RuntimeWarning: invalid value encountered in divide\n",
      "  + residuals_sum_squares / self.noise_variance_\n"
     ]
    },
    {
     "name": "stdout",
     "output_type": "stream",
     "text": [
      "1/1 [==============================] - 0s 44ms/step\n",
      "7263/7263 [==============================] - 15s 2ms/step\n"
     ]
    },
    {
     "name": "stderr",
     "output_type": "stream",
     "text": [
      "/usr/local/lib/python3.9/site-packages/sklearn/linear_model/_least_angle.py:2293: RuntimeWarning: divide by zero encountered in log\n",
      "  n_samples * np.log(2 * np.pi * self.noise_variance_)\n",
      "/usr/local/lib/python3.9/site-packages/sklearn/linear_model/_least_angle.py:2294: RuntimeWarning: invalid value encountered in divide\n",
      "  + residuals_sum_squares / self.noise_variance_\n"
     ]
    },
    {
     "name": "stdout",
     "output_type": "stream",
     "text": [
      "1/1 [==============================] - 0s 28ms/step\n",
      "7263/7263 [==============================] - 24s 3ms/step\n"
     ]
    },
    {
     "name": "stderr",
     "output_type": "stream",
     "text": [
      "/usr/local/lib/python3.9/site-packages/sklearn/linear_model/_least_angle.py:2293: RuntimeWarning: divide by zero encountered in log\n",
      "  n_samples * np.log(2 * np.pi * self.noise_variance_)\n",
      "/usr/local/lib/python3.9/site-packages/sklearn/linear_model/_least_angle.py:2294: RuntimeWarning: invalid value encountered in divide\n",
      "  + residuals_sum_squares / self.noise_variance_\n"
     ]
    },
    {
     "name": "stdout",
     "output_type": "stream",
     "text": [
      "1/1 [==============================] - 0s 30ms/step\n",
      "7263/7263 [==============================] - 18s 2ms/step\n"
     ]
    },
    {
     "name": "stderr",
     "output_type": "stream",
     "text": [
      "/usr/local/lib/python3.9/site-packages/sklearn/linear_model/_least_angle.py:2293: RuntimeWarning: divide by zero encountered in log\n",
      "  n_samples * np.log(2 * np.pi * self.noise_variance_)\n",
      "/usr/local/lib/python3.9/site-packages/sklearn/linear_model/_least_angle.py:2294: RuntimeWarning: invalid value encountered in divide\n",
      "  + residuals_sum_squares / self.noise_variance_\n"
     ]
    },
    {
     "name": "stdout",
     "output_type": "stream",
     "text": [
      "1/1 [==============================] - 0s 32ms/step\n",
      "7263/7263 [==============================] - 13s 2ms/step\n"
     ]
    },
    {
     "name": "stderr",
     "output_type": "stream",
     "text": [
      "/usr/local/lib/python3.9/site-packages/sklearn/linear_model/_least_angle.py:2293: RuntimeWarning: divide by zero encountered in log\n",
      "  n_samples * np.log(2 * np.pi * self.noise_variance_)\n",
      "/usr/local/lib/python3.9/site-packages/sklearn/linear_model/_least_angle.py:2294: RuntimeWarning: invalid value encountered in divide\n",
      "  + residuals_sum_squares / self.noise_variance_\n"
     ]
    },
    {
     "name": "stdout",
     "output_type": "stream",
     "text": [
      "1/1 [==============================] - 0s 30ms/step\n",
      "7263/7263 [==============================] - 15s 2ms/step\n"
     ]
    },
    {
     "name": "stderr",
     "output_type": "stream",
     "text": [
      "/usr/local/lib/python3.9/site-packages/sklearn/linear_model/_least_angle.py:2293: RuntimeWarning: divide by zero encountered in log\n",
      "  n_samples * np.log(2 * np.pi * self.noise_variance_)\n",
      "/usr/local/lib/python3.9/site-packages/sklearn/linear_model/_least_angle.py:2294: RuntimeWarning: invalid value encountered in divide\n",
      "  + residuals_sum_squares / self.noise_variance_\n"
     ]
    },
    {
     "name": "stdout",
     "output_type": "stream",
     "text": [
      "1/1 [==============================] - 0s 25ms/step\n",
      "7263/7263 [==============================] - 18s 2ms/step\n"
     ]
    },
    {
     "name": "stderr",
     "output_type": "stream",
     "text": [
      "/usr/local/lib/python3.9/site-packages/sklearn/linear_model/_least_angle.py:2293: RuntimeWarning: divide by zero encountered in log\n",
      "  n_samples * np.log(2 * np.pi * self.noise_variance_)\n",
      "/usr/local/lib/python3.9/site-packages/sklearn/linear_model/_least_angle.py:2294: RuntimeWarning: invalid value encountered in divide\n",
      "  + residuals_sum_squares / self.noise_variance_\n"
     ]
    },
    {
     "name": "stdout",
     "output_type": "stream",
     "text": [
      "1/1 [==============================] - 0s 83ms/step\n",
      "7263/7263 [==============================] - 19s 3ms/step\n"
     ]
    },
    {
     "name": "stderr",
     "output_type": "stream",
     "text": [
      "/usr/local/lib/python3.9/site-packages/sklearn/linear_model/_least_angle.py:2293: RuntimeWarning: divide by zero encountered in log\n",
      "  n_samples * np.log(2 * np.pi * self.noise_variance_)\n",
      "/usr/local/lib/python3.9/site-packages/sklearn/linear_model/_least_angle.py:2294: RuntimeWarning: invalid value encountered in divide\n",
      "  + residuals_sum_squares / self.noise_variance_\n"
     ]
    },
    {
     "name": "stdout",
     "output_type": "stream",
     "text": [
      "1/1 [==============================] - 0s 35ms/step\n",
      "7263/7263 [==============================] - 25s 3ms/step\n"
     ]
    },
    {
     "name": "stderr",
     "output_type": "stream",
     "text": [
      "/usr/local/lib/python3.9/site-packages/sklearn/linear_model/_least_angle.py:2293: RuntimeWarning: divide by zero encountered in log\n",
      "  n_samples * np.log(2 * np.pi * self.noise_variance_)\n",
      "/usr/local/lib/python3.9/site-packages/sklearn/linear_model/_least_angle.py:2294: RuntimeWarning: invalid value encountered in divide\n",
      "  + residuals_sum_squares / self.noise_variance_\n"
     ]
    },
    {
     "name": "stdout",
     "output_type": "stream",
     "text": [
      "1/1 [==============================] - 0s 34ms/step\n",
      "7263/7263 [==============================] - 22s 3ms/step\n"
     ]
    },
    {
     "name": "stderr",
     "output_type": "stream",
     "text": [
      "/usr/local/lib/python3.9/site-packages/sklearn/linear_model/_least_angle.py:2293: RuntimeWarning: divide by zero encountered in log\n",
      "  n_samples * np.log(2 * np.pi * self.noise_variance_)\n",
      "/usr/local/lib/python3.9/site-packages/sklearn/linear_model/_least_angle.py:2294: RuntimeWarning: invalid value encountered in divide\n",
      "  + residuals_sum_squares / self.noise_variance_\n"
     ]
    },
    {
     "name": "stdout",
     "output_type": "stream",
     "text": [
      "1/1 [==============================] - 0s 25ms/step\n",
      "7263/7263 [==============================] - 15s 2ms/step\n"
     ]
    },
    {
     "name": "stderr",
     "output_type": "stream",
     "text": [
      "/usr/local/lib/python3.9/site-packages/sklearn/linear_model/_least_angle.py:2293: RuntimeWarning: divide by zero encountered in log\n",
      "  n_samples * np.log(2 * np.pi * self.noise_variance_)\n",
      "/usr/local/lib/python3.9/site-packages/sklearn/linear_model/_least_angle.py:2294: RuntimeWarning: invalid value encountered in divide\n",
      "  + residuals_sum_squares / self.noise_variance_\n"
     ]
    },
    {
     "name": "stdout",
     "output_type": "stream",
     "text": [
      "1/1 [==============================] - 0s 28ms/step\n",
      "7263/7263 [==============================] - 26s 4ms/step\n"
     ]
    },
    {
     "name": "stderr",
     "output_type": "stream",
     "text": [
      "/usr/local/lib/python3.9/site-packages/sklearn/linear_model/_least_angle.py:2293: RuntimeWarning: divide by zero encountered in log\n",
      "  n_samples * np.log(2 * np.pi * self.noise_variance_)\n",
      "/usr/local/lib/python3.9/site-packages/sklearn/linear_model/_least_angle.py:2294: RuntimeWarning: invalid value encountered in divide\n",
      "  + residuals_sum_squares / self.noise_variance_\n"
     ]
    },
    {
     "name": "stdout",
     "output_type": "stream",
     "text": [
      "1/1 [==============================] - 0s 45ms/step\n",
      "7263/7263 [==============================] - 16s 2ms/step\n"
     ]
    },
    {
     "name": "stderr",
     "output_type": "stream",
     "text": [
      "/usr/local/lib/python3.9/site-packages/sklearn/linear_model/_least_angle.py:2293: RuntimeWarning: divide by zero encountered in log\n",
      "  n_samples * np.log(2 * np.pi * self.noise_variance_)\n",
      "/usr/local/lib/python3.9/site-packages/sklearn/linear_model/_least_angle.py:2294: RuntimeWarning: invalid value encountered in divide\n",
      "  + residuals_sum_squares / self.noise_variance_\n"
     ]
    },
    {
     "name": "stdout",
     "output_type": "stream",
     "text": [
      "1/1 [==============================] - 0s 39ms/step\n",
      "7263/7263 [==============================] - 14s 2ms/step\n"
     ]
    },
    {
     "name": "stderr",
     "output_type": "stream",
     "text": [
      "/usr/local/lib/python3.9/site-packages/sklearn/linear_model/_least_angle.py:2293: RuntimeWarning: divide by zero encountered in log\n",
      "  n_samples * np.log(2 * np.pi * self.noise_variance_)\n",
      "/usr/local/lib/python3.9/site-packages/sklearn/linear_model/_least_angle.py:2294: RuntimeWarning: invalid value encountered in divide\n",
      "  + residuals_sum_squares / self.noise_variance_\n"
     ]
    },
    {
     "name": "stdout",
     "output_type": "stream",
     "text": [
      "1/1 [==============================] - 0s 61ms/step\n",
      "7263/7263 [==============================] - 13s 2ms/step\n"
     ]
    },
    {
     "name": "stderr",
     "output_type": "stream",
     "text": [
      "/usr/local/lib/python3.9/site-packages/sklearn/linear_model/_least_angle.py:2293: RuntimeWarning: divide by zero encountered in log\n",
      "  n_samples * np.log(2 * np.pi * self.noise_variance_)\n",
      "/usr/local/lib/python3.9/site-packages/sklearn/linear_model/_least_angle.py:2294: RuntimeWarning: invalid value encountered in divide\n",
      "  + residuals_sum_squares / self.noise_variance_\n"
     ]
    },
    {
     "name": "stdout",
     "output_type": "stream",
     "text": [
      "1/1 [==============================] - 0s 39ms/step\n",
      "7263/7263 [==============================] - 14s 2ms/step\n"
     ]
    },
    {
     "name": "stderr",
     "output_type": "stream",
     "text": [
      "/usr/local/lib/python3.9/site-packages/sklearn/linear_model/_least_angle.py:2293: RuntimeWarning: divide by zero encountered in log\n",
      "  n_samples * np.log(2 * np.pi * self.noise_variance_)\n",
      "/usr/local/lib/python3.9/site-packages/sklearn/linear_model/_least_angle.py:2294: RuntimeWarning: invalid value encountered in divide\n",
      "  + residuals_sum_squares / self.noise_variance_\n"
     ]
    },
    {
     "name": "stdout",
     "output_type": "stream",
     "text": [
      "1/1 [==============================] - 0s 76ms/step\n",
      "7263/7263 [==============================] - 13s 2ms/step\n"
     ]
    },
    {
     "name": "stderr",
     "output_type": "stream",
     "text": [
      "/usr/local/lib/python3.9/site-packages/sklearn/linear_model/_least_angle.py:2293: RuntimeWarning: divide by zero encountered in log\n",
      "  n_samples * np.log(2 * np.pi * self.noise_variance_)\n",
      "/usr/local/lib/python3.9/site-packages/sklearn/linear_model/_least_angle.py:2294: RuntimeWarning: invalid value encountered in divide\n",
      "  + residuals_sum_squares / self.noise_variance_\n"
     ]
    },
    {
     "name": "stdout",
     "output_type": "stream",
     "text": [
      "1/1 [==============================] - 0s 62ms/step\n",
      "7263/7263 [==============================] - 14s 2ms/step\n"
     ]
    },
    {
     "name": "stderr",
     "output_type": "stream",
     "text": [
      "/usr/local/lib/python3.9/site-packages/sklearn/linear_model/_least_angle.py:2293: RuntimeWarning: divide by zero encountered in log\n",
      "  n_samples * np.log(2 * np.pi * self.noise_variance_)\n",
      "/usr/local/lib/python3.9/site-packages/sklearn/linear_model/_least_angle.py:2294: RuntimeWarning: invalid value encountered in divide\n",
      "  + residuals_sum_squares / self.noise_variance_\n"
     ]
    },
    {
     "name": "stdout",
     "output_type": "stream",
     "text": [
      "1/1 [==============================] - 0s 40ms/step\n",
      "7263/7263 [==============================] - 13s 2ms/step\n"
     ]
    },
    {
     "name": "stderr",
     "output_type": "stream",
     "text": [
      "/usr/local/lib/python3.9/site-packages/sklearn/linear_model/_least_angle.py:2293: RuntimeWarning: divide by zero encountered in log\n",
      "  n_samples * np.log(2 * np.pi * self.noise_variance_)\n",
      "/usr/local/lib/python3.9/site-packages/sklearn/linear_model/_least_angle.py:2294: RuntimeWarning: invalid value encountered in divide\n",
      "  + residuals_sum_squares / self.noise_variance_\n"
     ]
    },
    {
     "name": "stdout",
     "output_type": "stream",
     "text": [
      "1/1 [==============================] - 0s 55ms/step\n",
      "7263/7263 [==============================] - 19s 3ms/step\n"
     ]
    },
    {
     "name": "stderr",
     "output_type": "stream",
     "text": [
      "/usr/local/lib/python3.9/site-packages/sklearn/linear_model/_least_angle.py:2293: RuntimeWarning: divide by zero encountered in log\n",
      "  n_samples * np.log(2 * np.pi * self.noise_variance_)\n",
      "/usr/local/lib/python3.9/site-packages/sklearn/linear_model/_least_angle.py:2294: RuntimeWarning: invalid value encountered in divide\n",
      "  + residuals_sum_squares / self.noise_variance_\n"
     ]
    },
    {
     "name": "stdout",
     "output_type": "stream",
     "text": [
      "1/1 [==============================] - 0s 29ms/step\n",
      "7263/7263 [==============================] - 18s 2ms/step\n",
      "1/1 [==============================] - 0s 28ms/step\n",
      "7263/7263 [==============================] - 14s 2ms/step\n"
     ]
    },
    {
     "name": "stderr",
     "output_type": "stream",
     "text": [
      "/usr/local/lib/python3.9/site-packages/sklearn/linear_model/_least_angle.py:2293: RuntimeWarning: divide by zero encountered in log\n",
      "  n_samples * np.log(2 * np.pi * self.noise_variance_)\n",
      "/usr/local/lib/python3.9/site-packages/sklearn/linear_model/_least_angle.py:2294: RuntimeWarning: invalid value encountered in divide\n",
      "  + residuals_sum_squares / self.noise_variance_\n"
     ]
    },
    {
     "name": "stdout",
     "output_type": "stream",
     "text": [
      "1/1 [==============================] - 0s 30ms/step\n",
      "7263/7263 [==============================] - 11s 2ms/step\n"
     ]
    },
    {
     "name": "stderr",
     "output_type": "stream",
     "text": [
      "/usr/local/lib/python3.9/site-packages/sklearn/linear_model/_least_angle.py:2293: RuntimeWarning: divide by zero encountered in log\n",
      "  n_samples * np.log(2 * np.pi * self.noise_variance_)\n",
      "/usr/local/lib/python3.9/site-packages/sklearn/linear_model/_least_angle.py:2294: RuntimeWarning: invalid value encountered in divide\n",
      "  + residuals_sum_squares / self.noise_variance_\n"
     ]
    },
    {
     "name": "stdout",
     "output_type": "stream",
     "text": [
      "1/1 [==============================] - 0s 28ms/step\n",
      "7263/7263 [==============================] - 11s 2ms/step\n"
     ]
    },
    {
     "name": "stderr",
     "output_type": "stream",
     "text": [
      "/usr/local/lib/python3.9/site-packages/sklearn/linear_model/_least_angle.py:2293: RuntimeWarning: divide by zero encountered in log\n",
      "  n_samples * np.log(2 * np.pi * self.noise_variance_)\n",
      "/usr/local/lib/python3.9/site-packages/sklearn/linear_model/_least_angle.py:2294: RuntimeWarning: invalid value encountered in divide\n",
      "  + residuals_sum_squares / self.noise_variance_\n"
     ]
    },
    {
     "name": "stdout",
     "output_type": "stream",
     "text": [
      "1/1 [==============================] - 0s 28ms/step\n",
      "7263/7263 [==============================] - 11s 2ms/step\n"
     ]
    },
    {
     "name": "stderr",
     "output_type": "stream",
     "text": [
      "/usr/local/lib/python3.9/site-packages/sklearn/linear_model/_least_angle.py:2293: RuntimeWarning: divide by zero encountered in log\n",
      "  n_samples * np.log(2 * np.pi * self.noise_variance_)\n",
      "/usr/local/lib/python3.9/site-packages/sklearn/linear_model/_least_angle.py:2294: RuntimeWarning: invalid value encountered in divide\n",
      "  + residuals_sum_squares / self.noise_variance_\n"
     ]
    },
    {
     "name": "stdout",
     "output_type": "stream",
     "text": [
      "1/1 [==============================] - 0s 25ms/step\n",
      "7263/7263 [==============================] - 12s 2ms/step\n"
     ]
    },
    {
     "name": "stderr",
     "output_type": "stream",
     "text": [
      "/usr/local/lib/python3.9/site-packages/sklearn/linear_model/_least_angle.py:2293: RuntimeWarning: divide by zero encountered in log\n",
      "  n_samples * np.log(2 * np.pi * self.noise_variance_)\n",
      "/usr/local/lib/python3.9/site-packages/sklearn/linear_model/_least_angle.py:2294: RuntimeWarning: invalid value encountered in divide\n",
      "  + residuals_sum_squares / self.noise_variance_\n"
     ]
    },
    {
     "name": "stdout",
     "output_type": "stream",
     "text": [
      "1/1 [==============================] - 0s 25ms/step\n",
      "7263/7263 [==============================] - 12s 2ms/step\n"
     ]
    },
    {
     "name": "stderr",
     "output_type": "stream",
     "text": [
      "/usr/local/lib/python3.9/site-packages/sklearn/linear_model/_least_angle.py:2293: RuntimeWarning: divide by zero encountered in log\n",
      "  n_samples * np.log(2 * np.pi * self.noise_variance_)\n",
      "/usr/local/lib/python3.9/site-packages/sklearn/linear_model/_least_angle.py:2294: RuntimeWarning: invalid value encountered in divide\n",
      "  + residuals_sum_squares / self.noise_variance_\n"
     ]
    },
    {
     "name": "stdout",
     "output_type": "stream",
     "text": [
      "1/1 [==============================] - 0s 34ms/step\n",
      "7263/7263 [==============================] - 11s 2ms/step\n"
     ]
    },
    {
     "name": "stderr",
     "output_type": "stream",
     "text": [
      "/usr/local/lib/python3.9/site-packages/sklearn/linear_model/_least_angle.py:2293: RuntimeWarning: divide by zero encountered in log\n",
      "  n_samples * np.log(2 * np.pi * self.noise_variance_)\n",
      "/usr/local/lib/python3.9/site-packages/sklearn/linear_model/_least_angle.py:2294: RuntimeWarning: invalid value encountered in divide\n",
      "  + residuals_sum_squares / self.noise_variance_\n"
     ]
    },
    {
     "name": "stdout",
     "output_type": "stream",
     "text": [
      "1/1 [==============================] - 0s 31ms/step\n",
      "7263/7263 [==============================] - 12s 2ms/step\n"
     ]
    },
    {
     "name": "stderr",
     "output_type": "stream",
     "text": [
      "/usr/local/lib/python3.9/site-packages/sklearn/linear_model/_least_angle.py:2293: RuntimeWarning: divide by zero encountered in log\n",
      "  n_samples * np.log(2 * np.pi * self.noise_variance_)\n",
      "/usr/local/lib/python3.9/site-packages/sklearn/linear_model/_least_angle.py:2294: RuntimeWarning: invalid value encountered in divide\n",
      "  + residuals_sum_squares / self.noise_variance_\n"
     ]
    },
    {
     "name": "stdout",
     "output_type": "stream",
     "text": [
      "1/1 [==============================] - 0s 28ms/step\n",
      "7263/7263 [==============================] - 11s 2ms/step\n"
     ]
    },
    {
     "name": "stderr",
     "output_type": "stream",
     "text": [
      "/usr/local/lib/python3.9/site-packages/sklearn/linear_model/_least_angle.py:2293: RuntimeWarning: divide by zero encountered in log\n",
      "  n_samples * np.log(2 * np.pi * self.noise_variance_)\n",
      "/usr/local/lib/python3.9/site-packages/sklearn/linear_model/_least_angle.py:2294: RuntimeWarning: invalid value encountered in divide\n",
      "  + residuals_sum_squares / self.noise_variance_\n"
     ]
    },
    {
     "name": "stdout",
     "output_type": "stream",
     "text": [
      "1/1 [==============================] - 0s 37ms/step\n",
      "7263/7263 [==============================] - 14s 2ms/step\n"
     ]
    },
    {
     "name": "stderr",
     "output_type": "stream",
     "text": [
      "/usr/local/lib/python3.9/site-packages/sklearn/linear_model/_least_angle.py:2293: RuntimeWarning: divide by zero encountered in log\n",
      "  n_samples * np.log(2 * np.pi * self.noise_variance_)\n",
      "/usr/local/lib/python3.9/site-packages/sklearn/linear_model/_least_angle.py:2294: RuntimeWarning: invalid value encountered in divide\n",
      "  + residuals_sum_squares / self.noise_variance_\n"
     ]
    },
    {
     "name": "stdout",
     "output_type": "stream",
     "text": [
      "1/1 [==============================] - 0s 31ms/step\n",
      "7263/7263 [==============================] - 17s 2ms/step\n"
     ]
    },
    {
     "name": "stderr",
     "output_type": "stream",
     "text": [
      "/usr/local/lib/python3.9/site-packages/sklearn/linear_model/_least_angle.py:2293: RuntimeWarning: divide by zero encountered in log\n",
      "  n_samples * np.log(2 * np.pi * self.noise_variance_)\n",
      "/usr/local/lib/python3.9/site-packages/sklearn/linear_model/_least_angle.py:2294: RuntimeWarning: invalid value encountered in divide\n",
      "  + residuals_sum_squares / self.noise_variance_\n"
     ]
    },
    {
     "name": "stdout",
     "output_type": "stream",
     "text": [
      "1/1 [==============================] - 0s 51ms/step\n",
      "7263/7263 [==============================] - 15s 2ms/step\n"
     ]
    },
    {
     "name": "stderr",
     "output_type": "stream",
     "text": [
      "/usr/local/lib/python3.9/site-packages/sklearn/linear_model/_least_angle.py:2293: RuntimeWarning: divide by zero encountered in log\n",
      "  n_samples * np.log(2 * np.pi * self.noise_variance_)\n",
      "/usr/local/lib/python3.9/site-packages/sklearn/linear_model/_least_angle.py:2294: RuntimeWarning: invalid value encountered in divide\n",
      "  + residuals_sum_squares / self.noise_variance_\n"
     ]
    },
    {
     "name": "stdout",
     "output_type": "stream",
     "text": [
      "1/1 [==============================] - 0s 60ms/step\n",
      "7263/7263 [==============================] - 15s 2ms/step\n"
     ]
    },
    {
     "name": "stderr",
     "output_type": "stream",
     "text": [
      "/usr/local/lib/python3.9/site-packages/sklearn/linear_model/_least_angle.py:2293: RuntimeWarning: divide by zero encountered in log\n",
      "  n_samples * np.log(2 * np.pi * self.noise_variance_)\n",
      "/usr/local/lib/python3.9/site-packages/sklearn/linear_model/_least_angle.py:2294: RuntimeWarning: invalid value encountered in divide\n",
      "  + residuals_sum_squares / self.noise_variance_\n"
     ]
    },
    {
     "name": "stdout",
     "output_type": "stream",
     "text": [
      "1/1 [==============================] - 0s 65ms/step\n",
      "7263/7263 [==============================] - 21s 3ms/step\n"
     ]
    },
    {
     "name": "stderr",
     "output_type": "stream",
     "text": [
      "/usr/local/lib/python3.9/site-packages/sklearn/linear_model/_least_angle.py:2293: RuntimeWarning: divide by zero encountered in log\n",
      "  n_samples * np.log(2 * np.pi * self.noise_variance_)\n",
      "/usr/local/lib/python3.9/site-packages/sklearn/linear_model/_least_angle.py:2294: RuntimeWarning: invalid value encountered in divide\n",
      "  + residuals_sum_squares / self.noise_variance_\n"
     ]
    },
    {
     "name": "stdout",
     "output_type": "stream",
     "text": [
      "1/1 [==============================] - 0s 53ms/step\n",
      "7263/7263 [==============================] - 14s 2ms/step\n"
     ]
    },
    {
     "name": "stderr",
     "output_type": "stream",
     "text": [
      "/usr/local/lib/python3.9/site-packages/sklearn/linear_model/_least_angle.py:2293: RuntimeWarning: divide by zero encountered in log\n",
      "  n_samples * np.log(2 * np.pi * self.noise_variance_)\n",
      "/usr/local/lib/python3.9/site-packages/sklearn/linear_model/_least_angle.py:2294: RuntimeWarning: invalid value encountered in divide\n",
      "  + residuals_sum_squares / self.noise_variance_\n"
     ]
    },
    {
     "name": "stdout",
     "output_type": "stream",
     "text": [
      "1/1 [==============================] - 0s 32ms/step\n",
      "7263/7263 [==============================] - 14s 2ms/step\n"
     ]
    },
    {
     "name": "stderr",
     "output_type": "stream",
     "text": [
      "/usr/local/lib/python3.9/site-packages/sklearn/linear_model/_least_angle.py:2293: RuntimeWarning: divide by zero encountered in log\n",
      "  n_samples * np.log(2 * np.pi * self.noise_variance_)\n",
      "/usr/local/lib/python3.9/site-packages/sklearn/linear_model/_least_angle.py:2294: RuntimeWarning: invalid value encountered in divide\n",
      "  + residuals_sum_squares / self.noise_variance_\n"
     ]
    },
    {
     "name": "stdout",
     "output_type": "stream",
     "text": [
      "1/1 [==============================] - 0s 74ms/step\n",
      "7263/7263 [==============================] - 12s 2ms/step\n"
     ]
    },
    {
     "name": "stderr",
     "output_type": "stream",
     "text": [
      "/usr/local/lib/python3.9/site-packages/sklearn/linear_model/_least_angle.py:2293: RuntimeWarning: divide by zero encountered in log\n",
      "  n_samples * np.log(2 * np.pi * self.noise_variance_)\n",
      "/usr/local/lib/python3.9/site-packages/sklearn/linear_model/_least_angle.py:2294: RuntimeWarning: invalid value encountered in divide\n",
      "  + residuals_sum_squares / self.noise_variance_\n"
     ]
    },
    {
     "name": "stdout",
     "output_type": "stream",
     "text": [
      "1/1 [==============================] - 0s 37ms/step\n",
      "7263/7263 [==============================] - 12s 2ms/step\n"
     ]
    },
    {
     "name": "stderr",
     "output_type": "stream",
     "text": [
      "/usr/local/lib/python3.9/site-packages/sklearn/linear_model/_least_angle.py:2293: RuntimeWarning: divide by zero encountered in log\n",
      "  n_samples * np.log(2 * np.pi * self.noise_variance_)\n",
      "/usr/local/lib/python3.9/site-packages/sklearn/linear_model/_least_angle.py:2294: RuntimeWarning: invalid value encountered in divide\n",
      "  + residuals_sum_squares / self.noise_variance_\n"
     ]
    },
    {
     "name": "stdout",
     "output_type": "stream",
     "text": [
      "1/1 [==============================] - 0s 39ms/step\n",
      "7263/7263 [==============================] - 12s 2ms/step\n"
     ]
    },
    {
     "name": "stderr",
     "output_type": "stream",
     "text": [
      "/usr/local/lib/python3.9/site-packages/sklearn/linear_model/_least_angle.py:2293: RuntimeWarning: divide by zero encountered in log\n",
      "  n_samples * np.log(2 * np.pi * self.noise_variance_)\n",
      "/usr/local/lib/python3.9/site-packages/sklearn/linear_model/_least_angle.py:2294: RuntimeWarning: invalid value encountered in divide\n",
      "  + residuals_sum_squares / self.noise_variance_\n"
     ]
    },
    {
     "name": "stdout",
     "output_type": "stream",
     "text": [
      "1/1 [==============================] - 0s 95ms/step\n",
      "7263/7263 [==============================] - 13s 2ms/step\n",
      "1/1 [==============================] - 0s 28ms/step\n",
      "7263/7263 [==============================] - 17s 2ms/step\n"
     ]
    },
    {
     "name": "stderr",
     "output_type": "stream",
     "text": [
      "/usr/local/lib/python3.9/site-packages/sklearn/linear_model/_least_angle.py:2293: RuntimeWarning: divide by zero encountered in log\n",
      "  n_samples * np.log(2 * np.pi * self.noise_variance_)\n",
      "/usr/local/lib/python3.9/site-packages/sklearn/linear_model/_least_angle.py:2294: RuntimeWarning: invalid value encountered in divide\n",
      "  + residuals_sum_squares / self.noise_variance_\n"
     ]
    },
    {
     "name": "stdout",
     "output_type": "stream",
     "text": [
      "1/1 [==============================] - 0s 26ms/step\n",
      "7263/7263 [==============================] - 24s 3ms/step\n"
     ]
    },
    {
     "name": "stderr",
     "output_type": "stream",
     "text": [
      "/usr/local/lib/python3.9/site-packages/sklearn/linear_model/_least_angle.py:2293: RuntimeWarning: divide by zero encountered in log\n",
      "  n_samples * np.log(2 * np.pi * self.noise_variance_)\n",
      "/usr/local/lib/python3.9/site-packages/sklearn/linear_model/_least_angle.py:2294: RuntimeWarning: invalid value encountered in divide\n",
      "  + residuals_sum_squares / self.noise_variance_\n"
     ]
    },
    {
     "name": "stdout",
     "output_type": "stream",
     "text": [
      "1/1 [==============================] - 0s 44ms/step\n",
      "7263/7263 [==============================] - 15s 2ms/step\n"
     ]
    },
    {
     "name": "stderr",
     "output_type": "stream",
     "text": [
      "/usr/local/lib/python3.9/site-packages/sklearn/linear_model/_least_angle.py:2293: RuntimeWarning: divide by zero encountered in log\n",
      "  n_samples * np.log(2 * np.pi * self.noise_variance_)\n",
      "/usr/local/lib/python3.9/site-packages/sklearn/linear_model/_least_angle.py:2294: RuntimeWarning: invalid value encountered in divide\n",
      "  + residuals_sum_squares / self.noise_variance_\n"
     ]
    },
    {
     "name": "stdout",
     "output_type": "stream",
     "text": [
      "1/1 [==============================] - 0s 28ms/step\n",
      "7263/7263 [==============================] - 20s 3ms/step\n"
     ]
    },
    {
     "name": "stderr",
     "output_type": "stream",
     "text": [
      "/usr/local/lib/python3.9/site-packages/sklearn/linear_model/_least_angle.py:2293: RuntimeWarning: divide by zero encountered in log\n",
      "  n_samples * np.log(2 * np.pi * self.noise_variance_)\n",
      "/usr/local/lib/python3.9/site-packages/sklearn/linear_model/_least_angle.py:2294: RuntimeWarning: invalid value encountered in divide\n",
      "  + residuals_sum_squares / self.noise_variance_\n"
     ]
    },
    {
     "name": "stdout",
     "output_type": "stream",
     "text": [
      "1/1 [==============================] - 0s 33ms/step\n",
      "7263/7263 [==============================] - 16s 2ms/step\n"
     ]
    },
    {
     "name": "stderr",
     "output_type": "stream",
     "text": [
      "/usr/local/lib/python3.9/site-packages/sklearn/linear_model/_least_angle.py:2293: RuntimeWarning: divide by zero encountered in log\n",
      "  n_samples * np.log(2 * np.pi * self.noise_variance_)\n",
      "/usr/local/lib/python3.9/site-packages/sklearn/linear_model/_least_angle.py:2294: RuntimeWarning: invalid value encountered in divide\n",
      "  + residuals_sum_squares / self.noise_variance_\n"
     ]
    },
    {
     "name": "stdout",
     "output_type": "stream",
     "text": [
      "1/1 [==============================] - 0s 33ms/step\n",
      "7263/7263 [==============================] - 18s 2ms/step\n"
     ]
    },
    {
     "name": "stderr",
     "output_type": "stream",
     "text": [
      "/usr/local/lib/python3.9/site-packages/sklearn/linear_model/_least_angle.py:2293: RuntimeWarning: divide by zero encountered in log\n",
      "  n_samples * np.log(2 * np.pi * self.noise_variance_)\n",
      "/usr/local/lib/python3.9/site-packages/sklearn/linear_model/_least_angle.py:2294: RuntimeWarning: invalid value encountered in divide\n",
      "  + residuals_sum_squares / self.noise_variance_\n"
     ]
    },
    {
     "name": "stdout",
     "output_type": "stream",
     "text": [
      "1/1 [==============================] - 0s 168ms/step\n",
      "7263/7263 [==============================] - 14s 2ms/step\n"
     ]
    },
    {
     "name": "stderr",
     "output_type": "stream",
     "text": [
      "/usr/local/lib/python3.9/site-packages/sklearn/linear_model/_least_angle.py:2293: RuntimeWarning: divide by zero encountered in log\n",
      "  n_samples * np.log(2 * np.pi * self.noise_variance_)\n",
      "/usr/local/lib/python3.9/site-packages/sklearn/linear_model/_least_angle.py:2294: RuntimeWarning: invalid value encountered in divide\n",
      "  + residuals_sum_squares / self.noise_variance_\n"
     ]
    },
    {
     "name": "stdout",
     "output_type": "stream",
     "text": [
      "1/1 [==============================] - 0s 27ms/step\n",
      "7263/7263 [==============================] - 14s 2ms/step\n"
     ]
    },
    {
     "name": "stderr",
     "output_type": "stream",
     "text": [
      "/usr/local/lib/python3.9/site-packages/sklearn/linear_model/_least_angle.py:2293: RuntimeWarning: divide by zero encountered in log\n",
      "  n_samples * np.log(2 * np.pi * self.noise_variance_)\n",
      "/usr/local/lib/python3.9/site-packages/sklearn/linear_model/_least_angle.py:2294: RuntimeWarning: invalid value encountered in divide\n",
      "  + residuals_sum_squares / self.noise_variance_\n"
     ]
    },
    {
     "name": "stdout",
     "output_type": "stream",
     "text": [
      "1/1 [==============================] - 0s 44ms/step\n",
      "7263/7263 [==============================] - 14s 2ms/step\n"
     ]
    },
    {
     "name": "stderr",
     "output_type": "stream",
     "text": [
      "/usr/local/lib/python3.9/site-packages/sklearn/linear_model/_least_angle.py:2293: RuntimeWarning: divide by zero encountered in log\n",
      "  n_samples * np.log(2 * np.pi * self.noise_variance_)\n",
      "/usr/local/lib/python3.9/site-packages/sklearn/linear_model/_least_angle.py:2294: RuntimeWarning: invalid value encountered in divide\n",
      "  + residuals_sum_squares / self.noise_variance_\n"
     ]
    },
    {
     "name": "stdout",
     "output_type": "stream",
     "text": [
      "1/1 [==============================] - 0s 51ms/step\n",
      "7263/7263 [==============================] - 13s 2ms/step\n"
     ]
    },
    {
     "name": "stderr",
     "output_type": "stream",
     "text": [
      "/usr/local/lib/python3.9/site-packages/sklearn/linear_model/_least_angle.py:2293: RuntimeWarning: divide by zero encountered in log\n",
      "  n_samples * np.log(2 * np.pi * self.noise_variance_)\n",
      "/usr/local/lib/python3.9/site-packages/sklearn/linear_model/_least_angle.py:2294: RuntimeWarning: invalid value encountered in divide\n",
      "  + residuals_sum_squares / self.noise_variance_\n"
     ]
    },
    {
     "name": "stdout",
     "output_type": "stream",
     "text": [
      "1/1 [==============================] - 0s 44ms/step\n",
      "7263/7263 [==============================] - 14s 2ms/step\n"
     ]
    },
    {
     "name": "stderr",
     "output_type": "stream",
     "text": [
      "/usr/local/lib/python3.9/site-packages/sklearn/linear_model/_least_angle.py:2293: RuntimeWarning: divide by zero encountered in log\n",
      "  n_samples * np.log(2 * np.pi * self.noise_variance_)\n",
      "/usr/local/lib/python3.9/site-packages/sklearn/linear_model/_least_angle.py:2294: RuntimeWarning: invalid value encountered in divide\n",
      "  + residuals_sum_squares / self.noise_variance_\n"
     ]
    },
    {
     "name": "stdout",
     "output_type": "stream",
     "text": [
      "1/1 [==============================] - 0s 39ms/step\n",
      "7263/7263 [==============================] - 13s 2ms/step\n"
     ]
    },
    {
     "name": "stderr",
     "output_type": "stream",
     "text": [
      "/usr/local/lib/python3.9/site-packages/sklearn/linear_model/_least_angle.py:2293: RuntimeWarning: divide by zero encountered in log\n",
      "  n_samples * np.log(2 * np.pi * self.noise_variance_)\n",
      "/usr/local/lib/python3.9/site-packages/sklearn/linear_model/_least_angle.py:2294: RuntimeWarning: invalid value encountered in divide\n",
      "  + residuals_sum_squares / self.noise_variance_\n"
     ]
    },
    {
     "name": "stdout",
     "output_type": "stream",
     "text": [
      "1/1 [==============================] - 0s 43ms/step\n",
      "7263/7263 [==============================] - 12s 2ms/step\n"
     ]
    },
    {
     "name": "stderr",
     "output_type": "stream",
     "text": [
      "/usr/local/lib/python3.9/site-packages/sklearn/linear_model/_least_angle.py:2293: RuntimeWarning: divide by zero encountered in log\n",
      "  n_samples * np.log(2 * np.pi * self.noise_variance_)\n",
      "/usr/local/lib/python3.9/site-packages/sklearn/linear_model/_least_angle.py:2294: RuntimeWarning: invalid value encountered in divide\n",
      "  + residuals_sum_squares / self.noise_variance_\n"
     ]
    },
    {
     "name": "stdout",
     "output_type": "stream",
     "text": [
      "1/1 [==============================] - 0s 36ms/step\n",
      "7263/7263 [==============================] - 13s 2ms/step\n"
     ]
    },
    {
     "name": "stderr",
     "output_type": "stream",
     "text": [
      "/usr/local/lib/python3.9/site-packages/sklearn/linear_model/_least_angle.py:2293: RuntimeWarning: divide by zero encountered in log\n",
      "  n_samples * np.log(2 * np.pi * self.noise_variance_)\n",
      "/usr/local/lib/python3.9/site-packages/sklearn/linear_model/_least_angle.py:2294: RuntimeWarning: invalid value encountered in divide\n",
      "  + residuals_sum_squares / self.noise_variance_\n"
     ]
    },
    {
     "name": "stdout",
     "output_type": "stream",
     "text": [
      "1/1 [==============================] - 0s 58ms/step\n",
      "7263/7263 [==============================] - 14s 2ms/step\n"
     ]
    },
    {
     "name": "stderr",
     "output_type": "stream",
     "text": [
      "/usr/local/lib/python3.9/site-packages/sklearn/linear_model/_least_angle.py:2293: RuntimeWarning: divide by zero encountered in log\n",
      "  n_samples * np.log(2 * np.pi * self.noise_variance_)\n",
      "/usr/local/lib/python3.9/site-packages/sklearn/linear_model/_least_angle.py:2294: RuntimeWarning: invalid value encountered in divide\n",
      "  + residuals_sum_squares / self.noise_variance_\n"
     ]
    },
    {
     "name": "stdout",
     "output_type": "stream",
     "text": [
      "1/1 [==============================] - 0s 51ms/step\n",
      "7263/7263 [==============================] - 13s 2ms/step\n"
     ]
    },
    {
     "name": "stderr",
     "output_type": "stream",
     "text": [
      "/usr/local/lib/python3.9/site-packages/sklearn/linear_model/_least_angle.py:2293: RuntimeWarning: divide by zero encountered in log\n",
      "  n_samples * np.log(2 * np.pi * self.noise_variance_)\n",
      "/usr/local/lib/python3.9/site-packages/sklearn/linear_model/_least_angle.py:2294: RuntimeWarning: invalid value encountered in divide\n",
      "  + residuals_sum_squares / self.noise_variance_\n"
     ]
    },
    {
     "name": "stdout",
     "output_type": "stream",
     "text": [
      "1/1 [==============================] - 0s 45ms/step\n",
      "7263/7263 [==============================] - 14s 2ms/step\n"
     ]
    },
    {
     "name": "stderr",
     "output_type": "stream",
     "text": [
      "/usr/local/lib/python3.9/site-packages/sklearn/linear_model/_least_angle.py:2293: RuntimeWarning: divide by zero encountered in log\n",
      "  n_samples * np.log(2 * np.pi * self.noise_variance_)\n",
      "/usr/local/lib/python3.9/site-packages/sklearn/linear_model/_least_angle.py:2294: RuntimeWarning: invalid value encountered in divide\n",
      "  + residuals_sum_squares / self.noise_variance_\n"
     ]
    },
    {
     "name": "stdout",
     "output_type": "stream",
     "text": [
      "1/1 [==============================] - 0s 47ms/step\n",
      "7263/7263 [==============================] - 13s 2ms/step\n"
     ]
    },
    {
     "name": "stderr",
     "output_type": "stream",
     "text": [
      "/usr/local/lib/python3.9/site-packages/sklearn/linear_model/_least_angle.py:2293: RuntimeWarning: divide by zero encountered in log\n",
      "  n_samples * np.log(2 * np.pi * self.noise_variance_)\n",
      "/usr/local/lib/python3.9/site-packages/sklearn/linear_model/_least_angle.py:2294: RuntimeWarning: invalid value encountered in divide\n",
      "  + residuals_sum_squares / self.noise_variance_\n"
     ]
    },
    {
     "name": "stdout",
     "output_type": "stream",
     "text": [
      "1/1 [==============================] - 0s 37ms/step\n",
      "7263/7263 [==============================] - 14s 2ms/step\n"
     ]
    },
    {
     "name": "stderr",
     "output_type": "stream",
     "text": [
      "/usr/local/lib/python3.9/site-packages/sklearn/linear_model/_least_angle.py:2293: RuntimeWarning: divide by zero encountered in log\n",
      "  n_samples * np.log(2 * np.pi * self.noise_variance_)\n",
      "/usr/local/lib/python3.9/site-packages/sklearn/linear_model/_least_angle.py:2294: RuntimeWarning: invalid value encountered in divide\n",
      "  + residuals_sum_squares / self.noise_variance_\n"
     ]
    },
    {
     "name": "stdout",
     "output_type": "stream",
     "text": [
      "1/1 [==============================] - 0s 41ms/step\n",
      "7263/7263 [==============================] - 12s 2ms/step\n"
     ]
    },
    {
     "name": "stderr",
     "output_type": "stream",
     "text": [
      "/usr/local/lib/python3.9/site-packages/sklearn/linear_model/_least_angle.py:2293: RuntimeWarning: divide by zero encountered in log\n",
      "  n_samples * np.log(2 * np.pi * self.noise_variance_)\n",
      "/usr/local/lib/python3.9/site-packages/sklearn/linear_model/_least_angle.py:2294: RuntimeWarning: invalid value encountered in divide\n",
      "  + residuals_sum_squares / self.noise_variance_\n"
     ]
    },
    {
     "name": "stdout",
     "output_type": "stream",
     "text": [
      "1/1 [==============================] - 0s 164ms/step\n",
      "7263/7263 [==============================] - 12s 2ms/step\n"
     ]
    },
    {
     "name": "stderr",
     "output_type": "stream",
     "text": [
      "/usr/local/lib/python3.9/site-packages/sklearn/linear_model/_least_angle.py:2293: RuntimeWarning: divide by zero encountered in log\n",
      "  n_samples * np.log(2 * np.pi * self.noise_variance_)\n",
      "/usr/local/lib/python3.9/site-packages/sklearn/linear_model/_least_angle.py:2294: RuntimeWarning: invalid value encountered in divide\n",
      "  + residuals_sum_squares / self.noise_variance_\n"
     ]
    },
    {
     "name": "stdout",
     "output_type": "stream",
     "text": [
      "1/1 [==============================] - 0s 24ms/step\n",
      "7263/7263 [==============================] - 14s 2ms/step\n"
     ]
    },
    {
     "name": "stderr",
     "output_type": "stream",
     "text": [
      "/usr/local/lib/python3.9/site-packages/sklearn/linear_model/_least_angle.py:2293: RuntimeWarning: divide by zero encountered in log\n",
      "  n_samples * np.log(2 * np.pi * self.noise_variance_)\n",
      "/usr/local/lib/python3.9/site-packages/sklearn/linear_model/_least_angle.py:2294: RuntimeWarning: invalid value encountered in divide\n",
      "  + residuals_sum_squares / self.noise_variance_\n"
     ]
    },
    {
     "name": "stdout",
     "output_type": "stream",
     "text": [
      "1/1 [==============================] - 0s 37ms/step\n",
      "7263/7263 [==============================] - 12s 2ms/step\n"
     ]
    },
    {
     "name": "stderr",
     "output_type": "stream",
     "text": [
      "/usr/local/lib/python3.9/site-packages/sklearn/linear_model/_least_angle.py:2293: RuntimeWarning: divide by zero encountered in log\n",
      "  n_samples * np.log(2 * np.pi * self.noise_variance_)\n",
      "/usr/local/lib/python3.9/site-packages/sklearn/linear_model/_least_angle.py:2294: RuntimeWarning: invalid value encountered in divide\n",
      "  + residuals_sum_squares / self.noise_variance_\n"
     ]
    },
    {
     "name": "stdout",
     "output_type": "stream",
     "text": [
      "1/1 [==============================] - 0s 30ms/step\n",
      "7263/7263 [==============================] - 14s 2ms/step\n"
     ]
    },
    {
     "name": "stderr",
     "output_type": "stream",
     "text": [
      "/usr/local/lib/python3.9/site-packages/sklearn/linear_model/_least_angle.py:2293: RuntimeWarning: divide by zero encountered in log\n",
      "  n_samples * np.log(2 * np.pi * self.noise_variance_)\n",
      "/usr/local/lib/python3.9/site-packages/sklearn/linear_model/_least_angle.py:2294: RuntimeWarning: invalid value encountered in divide\n",
      "  + residuals_sum_squares / self.noise_variance_\n"
     ]
    },
    {
     "name": "stdout",
     "output_type": "stream",
     "text": [
      "1/1 [==============================] - 0s 100ms/step\n",
      "7263/7263 [==============================] - 12s 2ms/step\n"
     ]
    },
    {
     "name": "stderr",
     "output_type": "stream",
     "text": [
      "/usr/local/lib/python3.9/site-packages/sklearn/linear_model/_least_angle.py:2293: RuntimeWarning: divide by zero encountered in log\n",
      "  n_samples * np.log(2 * np.pi * self.noise_variance_)\n",
      "/usr/local/lib/python3.9/site-packages/sklearn/linear_model/_least_angle.py:2294: RuntimeWarning: invalid value encountered in divide\n",
      "  + residuals_sum_squares / self.noise_variance_\n"
     ]
    },
    {
     "name": "stdout",
     "output_type": "stream",
     "text": [
      "1/1 [==============================] - 0s 72ms/step\n",
      "7263/7263 [==============================] - 14s 2ms/step\n"
     ]
    },
    {
     "name": "stderr",
     "output_type": "stream",
     "text": [
      "/usr/local/lib/python3.9/site-packages/sklearn/linear_model/_least_angle.py:2293: RuntimeWarning: divide by zero encountered in log\n",
      "  n_samples * np.log(2 * np.pi * self.noise_variance_)\n",
      "/usr/local/lib/python3.9/site-packages/sklearn/linear_model/_least_angle.py:2294: RuntimeWarning: invalid value encountered in divide\n",
      "  + residuals_sum_squares / self.noise_variance_\n"
     ]
    },
    {
     "name": "stdout",
     "output_type": "stream",
     "text": [
      "1/1 [==============================] - 0s 62ms/step\n",
      "7263/7263 [==============================] - 14s 2ms/step\n"
     ]
    },
    {
     "name": "stderr",
     "output_type": "stream",
     "text": [
      "/usr/local/lib/python3.9/site-packages/sklearn/linear_model/_least_angle.py:2293: RuntimeWarning: divide by zero encountered in log\n",
      "  n_samples * np.log(2 * np.pi * self.noise_variance_)\n",
      "/usr/local/lib/python3.9/site-packages/sklearn/linear_model/_least_angle.py:2294: RuntimeWarning: invalid value encountered in divide\n",
      "  + residuals_sum_squares / self.noise_variance_\n"
     ]
    },
    {
     "name": "stdout",
     "output_type": "stream",
     "text": [
      "1/1 [==============================] - 0s 55ms/step\n",
      "7263/7263 [==============================] - 12s 2ms/step\n"
     ]
    },
    {
     "name": "stderr",
     "output_type": "stream",
     "text": [
      "/usr/local/lib/python3.9/site-packages/sklearn/linear_model/_least_angle.py:2293: RuntimeWarning: divide by zero encountered in log\n",
      "  n_samples * np.log(2 * np.pi * self.noise_variance_)\n",
      "/usr/local/lib/python3.9/site-packages/sklearn/linear_model/_least_angle.py:2294: RuntimeWarning: invalid value encountered in divide\n",
      "  + residuals_sum_squares / self.noise_variance_\n"
     ]
    },
    {
     "name": "stdout",
     "output_type": "stream",
     "text": [
      "1/1 [==============================] - 0s 41ms/step\n",
      "7263/7263 [==============================] - 10s 1ms/step\n"
     ]
    },
    {
     "name": "stderr",
     "output_type": "stream",
     "text": [
      "/usr/local/lib/python3.9/site-packages/sklearn/linear_model/_least_angle.py:2293: RuntimeWarning: divide by zero encountered in log\n",
      "  n_samples * np.log(2 * np.pi * self.noise_variance_)\n",
      "/usr/local/lib/python3.9/site-packages/sklearn/linear_model/_least_angle.py:2294: RuntimeWarning: invalid value encountered in divide\n",
      "  + residuals_sum_squares / self.noise_variance_\n"
     ]
    },
    {
     "name": "stdout",
     "output_type": "stream",
     "text": [
      "1/1 [==============================] - 0s 45ms/step\n",
      "7263/7263 [==============================] - 12s 2ms/step\n"
     ]
    },
    {
     "name": "stderr",
     "output_type": "stream",
     "text": [
      "/usr/local/lib/python3.9/site-packages/sklearn/linear_model/_least_angle.py:2293: RuntimeWarning: divide by zero encountered in log\n",
      "  n_samples * np.log(2 * np.pi * self.noise_variance_)\n",
      "/usr/local/lib/python3.9/site-packages/sklearn/linear_model/_least_angle.py:2294: RuntimeWarning: invalid value encountered in divide\n",
      "  + residuals_sum_squares / self.noise_variance_\n"
     ]
    },
    {
     "name": "stdout",
     "output_type": "stream",
     "text": [
      "1/1 [==============================] - 0s 67ms/step\n",
      "7263/7263 [==============================] - 14s 2ms/step\n"
     ]
    },
    {
     "name": "stderr",
     "output_type": "stream",
     "text": [
      "/usr/local/lib/python3.9/site-packages/sklearn/linear_model/_least_angle.py:2293: RuntimeWarning: divide by zero encountered in log\n",
      "  n_samples * np.log(2 * np.pi * self.noise_variance_)\n",
      "/usr/local/lib/python3.9/site-packages/sklearn/linear_model/_least_angle.py:2294: RuntimeWarning: invalid value encountered in divide\n",
      "  + residuals_sum_squares / self.noise_variance_\n"
     ]
    },
    {
     "name": "stdout",
     "output_type": "stream",
     "text": [
      "1/1 [==============================] - 0s 128ms/step\n",
      "7263/7263 [==============================] - 13s 2ms/step\n"
     ]
    },
    {
     "name": "stderr",
     "output_type": "stream",
     "text": [
      "/usr/local/lib/python3.9/site-packages/sklearn/linear_model/_least_angle.py:2293: RuntimeWarning: divide by zero encountered in log\n",
      "  n_samples * np.log(2 * np.pi * self.noise_variance_)\n",
      "/usr/local/lib/python3.9/site-packages/sklearn/linear_model/_least_angle.py:2294: RuntimeWarning: invalid value encountered in divide\n",
      "  + residuals_sum_squares / self.noise_variance_\n"
     ]
    },
    {
     "name": "stdout",
     "output_type": "stream",
     "text": [
      "1/1 [==============================] - 0s 43ms/step\n",
      "7263/7263 [==============================] - 14s 2ms/step\n"
     ]
    },
    {
     "name": "stderr",
     "output_type": "stream",
     "text": [
      "/usr/local/lib/python3.9/site-packages/sklearn/linear_model/_least_angle.py:2293: RuntimeWarning: divide by zero encountered in log\n",
      "  n_samples * np.log(2 * np.pi * self.noise_variance_)\n",
      "/usr/local/lib/python3.9/site-packages/sklearn/linear_model/_least_angle.py:2294: RuntimeWarning: invalid value encountered in divide\n",
      "  + residuals_sum_squares / self.noise_variance_\n"
     ]
    },
    {
     "name": "stdout",
     "output_type": "stream",
     "text": [
      "1/1 [==============================] - 0s 54ms/step\n",
      "7263/7263 [==============================] - 12s 2ms/step\n"
     ]
    },
    {
     "name": "stderr",
     "output_type": "stream",
     "text": [
      "/usr/local/lib/python3.9/site-packages/sklearn/linear_model/_least_angle.py:2293: RuntimeWarning: divide by zero encountered in log\n",
      "  n_samples * np.log(2 * np.pi * self.noise_variance_)\n",
      "/usr/local/lib/python3.9/site-packages/sklearn/linear_model/_least_angle.py:2294: RuntimeWarning: invalid value encountered in divide\n",
      "  + residuals_sum_squares / self.noise_variance_\n"
     ]
    },
    {
     "name": "stdout",
     "output_type": "stream",
     "text": [
      "1/1 [==============================] - 0s 53ms/step\n",
      "7263/7263 [==============================] - 14s 2ms/step\n"
     ]
    },
    {
     "name": "stderr",
     "output_type": "stream",
     "text": [
      "/usr/local/lib/python3.9/site-packages/sklearn/linear_model/_least_angle.py:2293: RuntimeWarning: divide by zero encountered in log\n",
      "  n_samples * np.log(2 * np.pi * self.noise_variance_)\n",
      "/usr/local/lib/python3.9/site-packages/sklearn/linear_model/_least_angle.py:2294: RuntimeWarning: invalid value encountered in divide\n",
      "  + residuals_sum_squares / self.noise_variance_\n"
     ]
    }
   ],
   "source": [
    "# features_FNN = getClsfFeaturesKernel(trainDf, classifiers['FNN'], Nfeatures=20)\n",
    "# 47 min"
   ]
  },
  {
   "cell_type": "code",
   "execution_count": 107,
   "metadata": {},
   "outputs": [
    {
     "ename": "ValueError",
     "evalue": "in user code:\n\n    File \"/usr/local/lib/python3.9/site-packages/keras/src/engine/training.py\", line 1401, in train_function  *\n        return step_function(self, iterator)\n    File \"/usr/local/lib/python3.9/site-packages/keras/src/engine/training.py\", line 1384, in step_function  **\n        outputs = model.distribute_strategy.run(run_step, args=(data,))\n    File \"/usr/local/lib/python3.9/site-packages/keras/src/engine/training.py\", line 1373, in run_step  **\n        outputs = model.train_step(data)\n    File \"/usr/local/lib/python3.9/site-packages/keras/src/engine/training.py\", line 1150, in train_step\n        y_pred = self(x, training=True)\n    File \"/usr/local/lib/python3.9/site-packages/keras/src/utils/traceback_utils.py\", line 70, in error_handler\n        raise e.with_traceback(filtered_tb) from None\n    File \"/usr/local/lib/python3.9/site-packages/keras/src/engine/input_spec.py\", line 298, in assert_input_compatibility\n        raise ValueError(\n\n    ValueError: Input 0 of layer \"sequential_8\" is incompatible with the layer: expected shape=(None, 8, 8, 1), found shape=(32, 146)\n",
     "output_type": "error",
     "traceback": [
      "\u001b[0;31m---------------------------------------------------------------------------\u001b[0m",
      "\u001b[0;31mValueError\u001b[0m                                Traceback (most recent call last)",
      "Cell \u001b[0;32mIn[107], line 1\u001b[0m\n\u001b[0;32m----> 1\u001b[0m features_CNN \u001b[38;5;241m=\u001b[39m \u001b[43mgetClsfFeaturesKernel\u001b[49m\u001b[43m(\u001b[49m\u001b[43mtrainDf\u001b[49m\u001b[43m,\u001b[49m\u001b[43m \u001b[49m\u001b[43mclassifiers\u001b[49m\u001b[43m[\u001b[49m\u001b[38;5;124;43m'\u001b[39;49m\u001b[38;5;124;43mCNN\u001b[39;49m\u001b[38;5;124;43m'\u001b[39;49m\u001b[43m]\u001b[49m\u001b[43m,\u001b[49m\u001b[43m \u001b[49m\u001b[43mNfeatures\u001b[49m\u001b[38;5;241;43m=\u001b[39;49m\u001b[38;5;241;43m20\u001b[39;49m\u001b[43m)\u001b[49m\n",
      "Cell \u001b[0;32mIn[95], line 4\u001b[0m, in \u001b[0;36mgetClsfFeaturesKernel\u001b[0;34m(trainDf, classifier, Nfeatures)\u001b[0m\n\u001b[1;32m      2\u001b[0m X_train \u001b[38;5;241m=\u001b[39m trainDf\u001b[38;5;241m.\u001b[39mdrop(\u001b[38;5;124m'\u001b[39m\u001b[38;5;124mp_Truth_isElectron\u001b[39m\u001b[38;5;124m'\u001b[39m, axis\u001b[38;5;241m=\u001b[39m\u001b[38;5;241m1\u001b[39m)\n\u001b[1;32m      3\u001b[0m y_train \u001b[38;5;241m=\u001b[39m trainDf[\u001b[38;5;124m'\u001b[39m\u001b[38;5;124mp_Truth_isElectron\u001b[39m\u001b[38;5;124m'\u001b[39m]\n\u001b[0;32m----> 4\u001b[0m \u001b[43mclassifier\u001b[49m\u001b[38;5;241;43m.\u001b[39;49m\u001b[43mfit\u001b[49m\u001b[43m(\u001b[49m\u001b[43mX_train\u001b[49m\u001b[43m,\u001b[49m\u001b[43m \u001b[49m\u001b[43my_train\u001b[49m\u001b[43m)\u001b[49m\n\u001b[1;32m      6\u001b[0m \u001b[38;5;66;03m# Tree Explainer for XGB\u001b[39;00m\n\u001b[1;32m      7\u001b[0m \u001b[38;5;28;01mif\u001b[39;00m classifier \u001b[38;5;241m==\u001b[39m classifiers[\u001b[38;5;124m'\u001b[39m\u001b[38;5;124mXGBoost\u001b[39m\u001b[38;5;124m'\u001b[39m]:\n",
      "Cell \u001b[0;32mIn[101], line 22\u001b[0m, in \u001b[0;36mCNNClassifier.fit\u001b[0;34m(self, X, y)\u001b[0m\n\u001b[1;32m     10\u001b[0m     \u001b[38;5;28mself\u001b[39m\u001b[38;5;241m.\u001b[39mmodel \u001b[38;5;241m=\u001b[39m Sequential([\n\u001b[1;32m     11\u001b[0m         Conv2D(\u001b[38;5;241m32\u001b[39m, (\u001b[38;5;241m3\u001b[39m, \u001b[38;5;241m3\u001b[39m), activation\u001b[38;5;241m=\u001b[39m\u001b[38;5;124m'\u001b[39m\u001b[38;5;124mrelu\u001b[39m\u001b[38;5;124m'\u001b[39m, padding\u001b[38;5;241m=\u001b[39m\u001b[38;5;124m'\u001b[39m\u001b[38;5;124msame\u001b[39m\u001b[38;5;124m'\u001b[39m, input_shape\u001b[38;5;241m=\u001b[39m\u001b[38;5;28mself\u001b[39m\u001b[38;5;241m.\u001b[39minput_shape),\n\u001b[1;32m     12\u001b[0m         MaxPooling2D((\u001b[38;5;241m2\u001b[39m, \u001b[38;5;241m2\u001b[39m), padding\u001b[38;5;241m=\u001b[39m\u001b[38;5;124m'\u001b[39m\u001b[38;5;124msame\u001b[39m\u001b[38;5;124m'\u001b[39m),\n\u001b[0;32m   (...)\u001b[0m\n\u001b[1;32m     17\u001b[0m         Dense(\u001b[38;5;28mself\u001b[39m\u001b[38;5;241m.\u001b[39mnum_classes, activation\u001b[38;5;241m=\u001b[39m\u001b[38;5;124m'\u001b[39m\u001b[38;5;124msoftmax\u001b[39m\u001b[38;5;124m'\u001b[39m)\n\u001b[1;32m     18\u001b[0m     ])\n\u001b[1;32m     19\u001b[0m     \u001b[38;5;28mself\u001b[39m\u001b[38;5;241m.\u001b[39mmodel\u001b[38;5;241m.\u001b[39mcompile(optimizer\u001b[38;5;241m=\u001b[39m\u001b[38;5;124m'\u001b[39m\u001b[38;5;124madam\u001b[39m\u001b[38;5;124m'\u001b[39m,\n\u001b[1;32m     20\u001b[0m                        loss\u001b[38;5;241m=\u001b[39m\u001b[38;5;124m'\u001b[39m\u001b[38;5;124msparse_categorical_crossentropy\u001b[39m\u001b[38;5;124m'\u001b[39m,\n\u001b[1;32m     21\u001b[0m                        metrics\u001b[38;5;241m=\u001b[39m[\u001b[38;5;124m'\u001b[39m\u001b[38;5;124maccuracy\u001b[39m\u001b[38;5;124m'\u001b[39m])\n\u001b[0;32m---> 22\u001b[0m \u001b[38;5;28;43mself\u001b[39;49m\u001b[38;5;241;43m.\u001b[39;49m\u001b[43mmodel\u001b[49m\u001b[38;5;241;43m.\u001b[39;49m\u001b[43mfit\u001b[49m\u001b[43m(\u001b[49m\u001b[43mX\u001b[49m\u001b[43m,\u001b[49m\u001b[43m \u001b[49m\u001b[43my\u001b[49m\u001b[43m,\u001b[49m\u001b[43m \u001b[49m\u001b[43mepochs\u001b[49m\u001b[38;5;241;43m=\u001b[39;49m\u001b[38;5;28;43mself\u001b[39;49m\u001b[38;5;241;43m.\u001b[39;49m\u001b[43mepochs\u001b[49m\u001b[43m,\u001b[49m\u001b[43m \u001b[49m\u001b[43mverbose\u001b[49m\u001b[38;5;241;43m=\u001b[39;49m\u001b[38;5;241;43m0\u001b[39;49m\u001b[43m)\u001b[49m\n\u001b[1;32m     23\u001b[0m \u001b[38;5;28;01mreturn\u001b[39;00m \u001b[38;5;28mself\u001b[39m\n",
      "File \u001b[0;32m/usr/local/lib/python3.9/site-packages/keras/src/utils/traceback_utils.py:70\u001b[0m, in \u001b[0;36mfilter_traceback.<locals>.error_handler\u001b[0;34m(*args, **kwargs)\u001b[0m\n\u001b[1;32m     67\u001b[0m     filtered_tb \u001b[38;5;241m=\u001b[39m _process_traceback_frames(e\u001b[38;5;241m.\u001b[39m__traceback__)\n\u001b[1;32m     68\u001b[0m     \u001b[38;5;66;03m# To get the full stack trace, call:\u001b[39;00m\n\u001b[1;32m     69\u001b[0m     \u001b[38;5;66;03m# `tf.debugging.disable_traceback_filtering()`\u001b[39;00m\n\u001b[0;32m---> 70\u001b[0m     \u001b[38;5;28;01mraise\u001b[39;00m e\u001b[38;5;241m.\u001b[39mwith_traceback(filtered_tb) \u001b[38;5;28;01mfrom\u001b[39;00m \u001b[38;5;28;01mNone\u001b[39;00m\n\u001b[1;32m     71\u001b[0m \u001b[38;5;28;01mfinally\u001b[39;00m:\n\u001b[1;32m     72\u001b[0m     \u001b[38;5;28;01mdel\u001b[39;00m filtered_tb\n",
      "File \u001b[0;32m/var/folders/5g/9cr0t2sj5mj8w4wcjj4by3300000gq/T/__autograph_generated_filerb170nfc.py:15\u001b[0m, in \u001b[0;36mouter_factory.<locals>.inner_factory.<locals>.tf__train_function\u001b[0;34m(iterator)\u001b[0m\n\u001b[1;32m     13\u001b[0m \u001b[38;5;28;01mtry\u001b[39;00m:\n\u001b[1;32m     14\u001b[0m     do_return \u001b[38;5;241m=\u001b[39m \u001b[38;5;28;01mTrue\u001b[39;00m\n\u001b[0;32m---> 15\u001b[0m     retval_ \u001b[38;5;241m=\u001b[39m ag__\u001b[38;5;241m.\u001b[39mconverted_call(ag__\u001b[38;5;241m.\u001b[39mld(step_function), (ag__\u001b[38;5;241m.\u001b[39mld(\u001b[38;5;28mself\u001b[39m), ag__\u001b[38;5;241m.\u001b[39mld(iterator)), \u001b[38;5;28;01mNone\u001b[39;00m, fscope)\n\u001b[1;32m     16\u001b[0m \u001b[38;5;28;01mexcept\u001b[39;00m:\n\u001b[1;32m     17\u001b[0m     do_return \u001b[38;5;241m=\u001b[39m \u001b[38;5;28;01mFalse\u001b[39;00m\n",
      "\u001b[0;31mValueError\u001b[0m: in user code:\n\n    File \"/usr/local/lib/python3.9/site-packages/keras/src/engine/training.py\", line 1401, in train_function  *\n        return step_function(self, iterator)\n    File \"/usr/local/lib/python3.9/site-packages/keras/src/engine/training.py\", line 1384, in step_function  **\n        outputs = model.distribute_strategy.run(run_step, args=(data,))\n    File \"/usr/local/lib/python3.9/site-packages/keras/src/engine/training.py\", line 1373, in run_step  **\n        outputs = model.train_step(data)\n    File \"/usr/local/lib/python3.9/site-packages/keras/src/engine/training.py\", line 1150, in train_step\n        y_pred = self(x, training=True)\n    File \"/usr/local/lib/python3.9/site-packages/keras/src/utils/traceback_utils.py\", line 70, in error_handler\n        raise e.with_traceback(filtered_tb) from None\n    File \"/usr/local/lib/python3.9/site-packages/keras/src/engine/input_spec.py\", line 298, in assert_input_compatibility\n        raise ValueError(\n\n    ValueError: Input 0 of layer \"sequential_8\" is incompatible with the layer: expected shape=(None, 8, 8, 1), found shape=(32, 146)\n"
     ]
    }
   ],
   "source": [
    "features_CNN = getClsfFeaturesKernel(trainDf, classifiers['CNN'], Nfeatures=20)"
   ]
  },
  {
   "cell_type": "code",
   "execution_count": null,
   "metadata": {},
   "outputs": [],
   "source": [
    "# features_GNN = getClsfFeaturesKernel(trainDf, classifiers['GNN'], Nfeatures=20)"
   ]
  },
  {
   "cell_type": "code",
   "execution_count": 46,
   "metadata": {},
   "outputs": [],
   "source": [
    "# makeVariableCsv(features_LR, 'Classification_CyanYongHoJo_LogisticRegression_VariableList.csv')\n",
    "# makeVariableCsv(features_RF, 'Classification_CyanYongHoJo_RandomForest_VariableList.csv')\n",
    "# makeVariableCsv(features_AB, 'Classification_CyanYongHoJo_AdaBoost_VariableList.csv')\n",
    "# makeVariableCsv(features_GB, 'Classification_CyanYongHoJo_GradientBoosting_VariableList.csv')\n",
    "# makeVariableCsv(features_XGB, 'Classification_CyanYongHoJo_XGBoost_VariableList.csv')\n",
    "# makeVariableCsv(features_FNN, 'Classification_CyanYongHoJo_FNN_VariableList.csv')"
   ]
  },
  {
   "cell_type": "code",
   "execution_count": 50,
   "metadata": {},
   "outputs": [],
   "source": [
    "def getFeatures():\n",
    "    features = {}\n",
    "    for classifier in classifiers.keys():\n",
    "        path = 'solutions/Classification_CyanYongHoJo_' + classifier + '_VariableList.csv'\n",
    "        features[classifier] = pd.read_csv(path, header=None).values.flatten().tolist()\n",
    "    return features"
   ]
  },
  {
   "cell_type": "code",
   "execution_count": 57,
   "metadata": {},
   "outputs": [],
   "source": [
    "selected_features = getFeatures()"
   ]
  },
  {
   "cell_type": "code",
   "execution_count": 58,
   "metadata": {},
   "outputs": [
    {
     "name": "stdout",
     "output_type": "stream",
     "text": [
      "pX_etcone20\n",
      "pX_ptcone20\n",
      "p_vertex\n",
      "pX_deltaEta3\n",
      "p_ptcone30\n",
      "pX_maxEcell_z\n",
      "pX_ptvarcone30\n",
      "pX_maxEcell_y\n",
      "p_f1\n",
      "pX_e132\n",
      "p_dPOverP\n",
      "pX_r33over37allcalo\n",
      "averageInteractionsPerCrossing\n",
      "pX_asy1\n",
      "pX_nCells_Lr1_HiG\n",
      "p_Rhad\n",
      "pX_deltaPhi2\n",
      "p_truth_parent_pdgId\n",
      "pX_e2ts1\n",
      "pX_deltaPhi1\n"
     ]
    }
   ],
   "source": [
    "# for i in getFeatures()['LogisticRegression']:\n",
    "#     print(i)\n",
    "\n",
    "for i in selected_features['TFNN']:\n",
    "    print(i)"
   ]
  },
  {
   "cell_type": "code",
   "execution_count": 59,
   "metadata": {},
   "outputs": [],
   "source": [
    "def runClsfCore(trainDf, testDf, classifier, features, filename):\n",
    "    X_train = trainDf[features]\n",
    "    y_train = trainDf['p_Truth_isElectron']\n",
    "\n",
    "    X_test = testDf[features]\n",
    "\n",
    "    classifier.fit(X_train, y_train)\n",
    "\n",
    "    y_pred = classifier.predict(X_test)\n",
    "\n",
    "    N, accuracy, fracWrong = getCM(y_pred, testDf['p_Truth_isElectron'])\n",
    "\n",
    "    saveToCsv(y_pred, filename)\n",
    "\n",
    "    return y_pred, N, accuracy, fracWrong"
   ]
  },
  {
   "cell_type": "code",
   "execution_count": 66,
   "metadata": {},
   "outputs": [
    {
     "name": "stdout",
     "output_type": "stream",
     "text": [
      "140\n",
      "147\n"
     ]
    }
   ],
   "source": [
    "print(len(testDf_clsf.columns))\n",
    "print(len(trainDf.columns))"
   ]
  },
  {
   "cell_type": "code",
   "execution_count": 67,
   "metadata": {},
   "outputs": [],
   "source": []
  },
  {
   "cell_type": "code",
   "execution_count": 68,
   "metadata": {},
   "outputs": [
    {
     "name": "stdout",
     "output_type": "stream",
     "text": [
      "Columns in df2 not in df1: set()\n",
      "Columns in df1 not in df2: {'p_truth_eta', 'p_Truth_Energy', 'p_truth_phi', 'p_truth_parent_pdgId', 'p_truth_pt', 'p_truth_pdgId', 'p_Truth_isElectron'}\n"
     ]
    }
   ],
   "source": [
    "compare_features(trainDf, testDf_clsf)"
   ]
  },
  {
   "cell_type": "code",
   "execution_count": 60,
   "metadata": {},
   "outputs": [
    {
     "ename": "KeyError",
     "evalue": "\"['p_truth_pt', 'p_Truth_Energy'] not in index\"",
     "output_type": "error",
     "traceback": [
      "\u001b[0;31m---------------------------------------------------------------------------\u001b[0m",
      "\u001b[0;31mKeyError\u001b[0m                                  Traceback (most recent call last)",
      "Cell \u001b[0;32mIn[60], line 1\u001b[0m\n\u001b[0;32m----> 1\u001b[0m \u001b[43mrunClsfCore\u001b[49m\u001b[43m(\u001b[49m\u001b[43mtrainDf\u001b[49m\u001b[43m,\u001b[49m\u001b[43m \u001b[49m\u001b[43mtestDf_clsf\u001b[49m\u001b[43m,\u001b[49m\u001b[43m \u001b[49m\u001b[43mclassifiers\u001b[49m\u001b[43m[\u001b[49m\u001b[38;5;124;43m'\u001b[39;49m\u001b[38;5;124;43mLogisticRegression\u001b[39;49m\u001b[38;5;124;43m'\u001b[39;49m\u001b[43m]\u001b[49m\u001b[43m,\u001b[49m\u001b[43m \u001b[49m\u001b[43mselected_features\u001b[49m\u001b[43m[\u001b[49m\u001b[38;5;124;43m'\u001b[39;49m\u001b[38;5;124;43mLogisticRegression\u001b[39;49m\u001b[38;5;124;43m'\u001b[39;49m\u001b[43m]\u001b[49m\u001b[43m,\u001b[49m\u001b[43m \u001b[49m\u001b[38;5;124;43m'\u001b[39;49m\u001b[38;5;124;43mClassification_CyanYongHoJo_LogisticRegression.csv\u001b[39;49m\u001b[38;5;124;43m'\u001b[39;49m\u001b[43m)\u001b[49m\n",
      "Cell \u001b[0;32mIn[59], line 5\u001b[0m, in \u001b[0;36mrunClsfCore\u001b[0;34m(trainDf, testDf, classifier, features, filename)\u001b[0m\n\u001b[1;32m      2\u001b[0m X_train \u001b[38;5;241m=\u001b[39m trainDf[features]\n\u001b[1;32m      3\u001b[0m y_train \u001b[38;5;241m=\u001b[39m trainDf[\u001b[38;5;124m'\u001b[39m\u001b[38;5;124mp_Truth_isElectron\u001b[39m\u001b[38;5;124m'\u001b[39m]\n\u001b[0;32m----> 5\u001b[0m X_test \u001b[38;5;241m=\u001b[39m \u001b[43mtestDf\u001b[49m\u001b[43m[\u001b[49m\u001b[43mfeatures\u001b[49m\u001b[43m]\u001b[49m\n\u001b[1;32m      7\u001b[0m classifier\u001b[38;5;241m.\u001b[39mfit(X_train, y_train)\n\u001b[1;32m      9\u001b[0m y_pred \u001b[38;5;241m=\u001b[39m classifier\u001b[38;5;241m.\u001b[39mpredict(X_test)\n",
      "File \u001b[0;32m/usr/local/lib/python3.9/site-packages/pandas/core/frame.py:3902\u001b[0m, in \u001b[0;36mDataFrame.__getitem__\u001b[0;34m(self, key)\u001b[0m\n\u001b[1;32m   3900\u001b[0m     \u001b[38;5;28;01mif\u001b[39;00m is_iterator(key):\n\u001b[1;32m   3901\u001b[0m         key \u001b[38;5;241m=\u001b[39m \u001b[38;5;28mlist\u001b[39m(key)\n\u001b[0;32m-> 3902\u001b[0m     indexer \u001b[38;5;241m=\u001b[39m \u001b[38;5;28;43mself\u001b[39;49m\u001b[38;5;241;43m.\u001b[39;49m\u001b[43mcolumns\u001b[49m\u001b[38;5;241;43m.\u001b[39;49m\u001b[43m_get_indexer_strict\u001b[49m\u001b[43m(\u001b[49m\u001b[43mkey\u001b[49m\u001b[43m,\u001b[49m\u001b[43m \u001b[49m\u001b[38;5;124;43m\"\u001b[39;49m\u001b[38;5;124;43mcolumns\u001b[39;49m\u001b[38;5;124;43m\"\u001b[39;49m\u001b[43m)\u001b[49m[\u001b[38;5;241m1\u001b[39m]\n\u001b[1;32m   3904\u001b[0m \u001b[38;5;66;03m# take() does not accept boolean indexers\u001b[39;00m\n\u001b[1;32m   3905\u001b[0m \u001b[38;5;28;01mif\u001b[39;00m \u001b[38;5;28mgetattr\u001b[39m(indexer, \u001b[38;5;124m\"\u001b[39m\u001b[38;5;124mdtype\u001b[39m\u001b[38;5;124m\"\u001b[39m, \u001b[38;5;28;01mNone\u001b[39;00m) \u001b[38;5;241m==\u001b[39m \u001b[38;5;28mbool\u001b[39m:\n",
      "File \u001b[0;32m/usr/local/lib/python3.9/site-packages/pandas/core/indexes/base.py:6114\u001b[0m, in \u001b[0;36mIndex._get_indexer_strict\u001b[0;34m(self, key, axis_name)\u001b[0m\n\u001b[1;32m   6111\u001b[0m \u001b[38;5;28;01melse\u001b[39;00m:\n\u001b[1;32m   6112\u001b[0m     keyarr, indexer, new_indexer \u001b[38;5;241m=\u001b[39m \u001b[38;5;28mself\u001b[39m\u001b[38;5;241m.\u001b[39m_reindex_non_unique(keyarr)\n\u001b[0;32m-> 6114\u001b[0m \u001b[38;5;28;43mself\u001b[39;49m\u001b[38;5;241;43m.\u001b[39;49m\u001b[43m_raise_if_missing\u001b[49m\u001b[43m(\u001b[49m\u001b[43mkeyarr\u001b[49m\u001b[43m,\u001b[49m\u001b[43m \u001b[49m\u001b[43mindexer\u001b[49m\u001b[43m,\u001b[49m\u001b[43m \u001b[49m\u001b[43maxis_name\u001b[49m\u001b[43m)\u001b[49m\n\u001b[1;32m   6116\u001b[0m keyarr \u001b[38;5;241m=\u001b[39m \u001b[38;5;28mself\u001b[39m\u001b[38;5;241m.\u001b[39mtake(indexer)\n\u001b[1;32m   6117\u001b[0m \u001b[38;5;28;01mif\u001b[39;00m \u001b[38;5;28misinstance\u001b[39m(key, Index):\n\u001b[1;32m   6118\u001b[0m     \u001b[38;5;66;03m# GH 42790 - Preserve name from an Index\u001b[39;00m\n",
      "File \u001b[0;32m/usr/local/lib/python3.9/site-packages/pandas/core/indexes/base.py:6178\u001b[0m, in \u001b[0;36mIndex._raise_if_missing\u001b[0;34m(self, key, indexer, axis_name)\u001b[0m\n\u001b[1;32m   6175\u001b[0m     \u001b[38;5;28;01mraise\u001b[39;00m \u001b[38;5;167;01mKeyError\u001b[39;00m(\u001b[38;5;124mf\u001b[39m\u001b[38;5;124m\"\u001b[39m\u001b[38;5;124mNone of [\u001b[39m\u001b[38;5;132;01m{\u001b[39;00mkey\u001b[38;5;132;01m}\u001b[39;00m\u001b[38;5;124m] are in the [\u001b[39m\u001b[38;5;132;01m{\u001b[39;00maxis_name\u001b[38;5;132;01m}\u001b[39;00m\u001b[38;5;124m]\u001b[39m\u001b[38;5;124m\"\u001b[39m)\n\u001b[1;32m   6177\u001b[0m not_found \u001b[38;5;241m=\u001b[39m \u001b[38;5;28mlist\u001b[39m(ensure_index(key)[missing_mask\u001b[38;5;241m.\u001b[39mnonzero()[\u001b[38;5;241m0\u001b[39m]]\u001b[38;5;241m.\u001b[39munique())\n\u001b[0;32m-> 6178\u001b[0m \u001b[38;5;28;01mraise\u001b[39;00m \u001b[38;5;167;01mKeyError\u001b[39;00m(\u001b[38;5;124mf\u001b[39m\u001b[38;5;124m\"\u001b[39m\u001b[38;5;132;01m{\u001b[39;00mnot_found\u001b[38;5;132;01m}\u001b[39;00m\u001b[38;5;124m not in index\u001b[39m\u001b[38;5;124m\"\u001b[39m)\n",
      "\u001b[0;31mKeyError\u001b[0m: \"['p_truth_pt', 'p_Truth_Energy'] not in index\""
     ]
    }
   ],
   "source": [
    "runClsfCore(trainDf, testDf_clsf, classifiers['LogisticRegression'], selected_features['LogisticRegression'], 'Classification_CyanYongHoJo_LogisticRegression.csv')"
   ]
  }
 ],
 "metadata": {
  "kernelspec": {
   "display_name": "Python 3",
   "language": "python",
   "name": "python3"
  },
  "language_info": {
   "codemirror_mode": {
    "name": "ipython",
    "version": 3
   },
   "file_extension": ".py",
   "mimetype": "text/x-python",
   "name": "python",
   "nbconvert_exporter": "python",
   "pygments_lexer": "ipython3",
   "version": "3.9.13"
  }
 },
 "nbformat": 4,
 "nbformat_minor": 2
}
